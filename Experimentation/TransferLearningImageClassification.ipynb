{
 "cells": [
  {
   "cell_type": "markdown",
   "metadata": {},
   "source": [
    "# Libraries"
   ]
  },
  {
   "cell_type": "code",
   "execution_count": 13,
   "metadata": {},
   "outputs": [],
   "source": [
    "from tensorflow.keras.applications import VGG16\n",
    "import os\n",
    "import cv2\n",
    "import numpy as np\n",
    "import matplotlib.pyplot as plt\n",
    "\n",
    "%matplotlib inline"
   ]
  },
  {
   "cell_type": "markdown",
   "metadata": {},
   "source": [
    "# Open Pose\n",
    "\n",
    "MPII Output Format:\n",
    "Head – 0\n",
    "Neck – 1\n",
    "Right Shoulder – 2\n",
    "Right Elbow – 3\n",
    "Right Wrist – 4\n",
    "Left Shoulder – 5\n",
    "Left Elbow – 6\n",
    "Left Wrist – 7\n",
    "Right Hip – 8\n",
    "Right Knee – 9\n",
    "Right Ankle – 10\n",
    "Left Hip – 11\n",
    "Left Knee – 12\n",
    "Left Ankle – 13\n",
    "Chest – 14\n",
    "Background – 15"
   ]
  },
  {
   "cell_type": "code",
   "execution_count": 14,
   "metadata": {},
   "outputs": [],
   "source": [
    "MODE = \"MPI\"\n",
    "\n",
    "if MODE is \"COCO\":\n",
    "    protoFile = \"pose/coco/pose_deploy_linevec.prototxt\"\n",
    "    weightsFile = \"pose/coco/pose_iter_440000.caffemodel\"\n",
    "    nPoints = 18\n",
    "    POSE_PAIRS = [ [1,0],[1,2],[1,5],[2,3],[3,4],[5,6],[6,7],[1,8],[8,9],[9,10],[1,11],[11,12],[12,13],[0,14],[0,15],[14,16],[15,17]]\n",
    "\n",
    "elif MODE is \"MPI\" :\n",
    "    protoFile = \"pose/mpi/pose_deploy_linevec_faster_4_stages.prototxt\"\n",
    "    weightsFile = \"pose/mpi/pose_iter_160000.caffemodel\"\n",
    "    nPoints = 15\n",
    "    POSE_PAIRS = [[0,1], [1,2], [2,3], [3,4], [1,5], [5,6], [6,7], [1,14], [14,8], [8,9], [9,10], [14,11], [11,12], [12,13] ]\n",
    "\n",
    "net = cv2.dnn.readNetFromCaffe(protoFile, weightsFile)\n",
    "\n",
    "inWidth = 368\n",
    "inHeight = 368"
   ]
  },
  {
   "cell_type": "markdown",
   "metadata": {},
   "source": [
    "# Importing VGG 16"
   ]
  },
  {
   "cell_type": "code",
   "execution_count": 15,
   "metadata": {},
   "outputs": [],
   "source": [
    "conv_base = VGG16(weights = 'imagenet', include_top = False, input_shape = (150, 150, 3))"
   ]
  },
  {
   "cell_type": "code",
   "execution_count": 16,
   "metadata": {},
   "outputs": [
    {
     "name": "stdout",
     "output_type": "stream",
     "text": [
      "Model: \"vgg16\"\n",
      "_________________________________________________________________\n",
      "Layer (type)                 Output Shape              Param #   \n",
      "=================================================================\n",
      "input_2 (InputLayer)         [(None, 150, 150, 3)]     0         \n",
      "_________________________________________________________________\n",
      "block1_conv1 (Conv2D)        (None, 150, 150, 64)      1792      \n",
      "_________________________________________________________________\n",
      "block1_conv2 (Conv2D)        (None, 150, 150, 64)      36928     \n",
      "_________________________________________________________________\n",
      "block1_pool (MaxPooling2D)   (None, 75, 75, 64)        0         \n",
      "_________________________________________________________________\n",
      "block2_conv1 (Conv2D)        (None, 75, 75, 128)       73856     \n",
      "_________________________________________________________________\n",
      "block2_conv2 (Conv2D)        (None, 75, 75, 128)       147584    \n",
      "_________________________________________________________________\n",
      "block2_pool (MaxPooling2D)   (None, 37, 37, 128)       0         \n",
      "_________________________________________________________________\n",
      "block3_conv1 (Conv2D)        (None, 37, 37, 256)       295168    \n",
      "_________________________________________________________________\n",
      "block3_conv2 (Conv2D)        (None, 37, 37, 256)       590080    \n",
      "_________________________________________________________________\n",
      "block3_conv3 (Conv2D)        (None, 37, 37, 256)       590080    \n",
      "_________________________________________________________________\n",
      "block3_pool (MaxPooling2D)   (None, 18, 18, 256)       0         \n",
      "_________________________________________________________________\n",
      "block4_conv1 (Conv2D)        (None, 18, 18, 512)       1180160   \n",
      "_________________________________________________________________\n",
      "block4_conv2 (Conv2D)        (None, 18, 18, 512)       2359808   \n",
      "_________________________________________________________________\n",
      "block4_conv3 (Conv2D)        (None, 18, 18, 512)       2359808   \n",
      "_________________________________________________________________\n",
      "block4_pool (MaxPooling2D)   (None, 9, 9, 512)         0         \n",
      "_________________________________________________________________\n",
      "block5_conv1 (Conv2D)        (None, 9, 9, 512)         2359808   \n",
      "_________________________________________________________________\n",
      "block5_conv2 (Conv2D)        (None, 9, 9, 512)         2359808   \n",
      "_________________________________________________________________\n",
      "block5_conv3 (Conv2D)        (None, 9, 9, 512)         2359808   \n",
      "_________________________________________________________________\n",
      "block5_pool (MaxPooling2D)   (None, 4, 4, 512)         0         \n",
      "=================================================================\n",
      "Total params: 14,714,688\n",
      "Trainable params: 14,714,688\n",
      "Non-trainable params: 0\n",
      "_________________________________________________________________\n"
     ]
    }
   ],
   "source": [
    "conv_base.summary()"
   ]
  },
  {
   "cell_type": "markdown",
   "metadata": {},
   "source": [
    "# Using ImageDataGenerator"
   ]
  },
  {
   "cell_type": "code",
   "execution_count": 17,
   "metadata": {},
   "outputs": [],
   "source": [
    "from tensorflow.keras.preprocessing.image import ImageDataGenerator\n",
    "from PIL import ImageFile\n",
    "\n",
    "ImageFile.LOAD_TRUNCATED_IMAGES = True"
   ]
  },
  {
   "cell_type": "code",
   "execution_count": 18,
   "metadata": {},
   "outputs": [],
   "source": [
    "base_dir = 'DataBaseCustom/DATASET'\n",
    "train_dir = os.path.join(base_dir, 'TRAIN')\n",
    "test_dir = os.path.join(base_dir, 'TEST')\n",
    "\n",
    "base_dir_op = 'DataBaseCustom/DATASET_OP'\n",
    "train_dir_op = os.path.join(base_dir_op, 'TRAIN')\n",
    "test_dir_op = os.path.join(base_dir_op, 'TEST')\n",
    "\n",
    "base_dir_black = 'DataBaseCustom/DATASET_BLACK'\n",
    "train_dir_black = os.path.join(base_dir_black, 'TRAIN')\n",
    "test_dir_black = os.path.join(base_dir_black, 'TEST')"
   ]
  },
  {
   "cell_type": "code",
   "execution_count": 19,
   "metadata": {},
   "outputs": [],
   "source": [
    "datagen = ImageDataGenerator(rescale = 1./255)\n",
    "batch_size = 20"
   ]
  },
  {
   "cell_type": "code",
   "execution_count": 20,
   "metadata": {},
   "outputs": [],
   "source": [
    "def extract_features(directory, sample_count):\n",
    "    features = np.zeros(shape = (sample_count, 4, 4, 512))\n",
    "    labels = np.zeros(shape = (sample_count, 5))\n",
    "    #labels = np.zeros(shape = (sample_count, 2)) edited to two as my custom image directory has only two classes.\n",
    "    generator = datagen.flow_from_directory(directory, target_size = (150, 150), batch_size = batch_size, class_mode=\"categorical\",subset = \"training\")\n",
    "    i = 0\n",
    "    for inputs_batch, labels_batch in generator:\n",
    "        features_batch = conv_base.predict(inputs_batch)\n",
    "        features[i * batch_size: (i+1) * batch_size] = features_batch\n",
    "        labels[i * batch_size: (i+1) * batch_size] = labels_batch\n",
    "        i += 1\n",
    "        print(i * batch_size)\n",
    "        if i * batch_size >= sample_count:\n",
    "            break\n",
    "    return features, labels"
   ]
  },
  {
   "cell_type": "markdown",
   "metadata": {},
   "source": [
    "# Classifier"
   ]
  },
  {
   "cell_type": "code",
   "execution_count": 21,
   "metadata": {},
   "outputs": [],
   "source": [
    "from tensorflow.keras import models, layers, optimizers"
   ]
  },
  {
   "cell_type": "code",
   "execution_count": 22,
   "metadata": {},
   "outputs": [],
   "source": [
    "model = models.Sequential()\n",
    "model.add(layers.Dense(256, activation = 'relu', input_dim = 4 * 4 * 512))\n",
    "model.add(layers.Dropout(0.5))\n",
    "model.add(layers.Dense(5, activation = 'softmax'))"
   ]
  },
  {
   "cell_type": "code",
   "execution_count": 23,
   "metadata": {},
   "outputs": [],
   "source": [
    "model.compile(optimizer = optimizers.RMSprop(lr=2e-5), loss = 'categorical_crossentropy', metrics = ['acc'])"
   ]
  },
  {
   "cell_type": "markdown",
   "metadata": {},
   "source": [
    "# Input label and features"
   ]
  },
  {
   "cell_type": "code",
   "execution_count": 26,
   "metadata": {
    "scrolled": false
   },
   "outputs": [
    {
     "name": "stdout",
     "output_type": "stream",
     "text": [
      "Found 1074 images belonging to 5 classes.\n",
      "20\n",
      "40\n",
      "60\n",
      "80\n",
      "100\n",
      "120\n",
      "140\n",
      "160\n",
      "180\n",
      "200\n",
      "220\n",
      "240\n",
      "260\n",
      "280\n",
      "300\n",
      "320\n",
      "340\n",
      "360\n",
      "380\n",
      "400\n",
      "420\n",
      "440\n",
      "460\n",
      "480\n",
      "500\n",
      "520\n",
      "540\n",
      "560\n",
      "580\n",
      "600\n",
      "620\n",
      "640\n",
      "660\n",
      "680\n",
      "700\n",
      "720\n",
      "740\n",
      "760\n",
      "780\n",
      "800\n",
      "820\n",
      "840\n",
      "860\n",
      "880\n",
      "900\n",
      "920\n",
      "940\n",
      "960\n",
      "980\n",
      "1000\n",
      "1020\n",
      "1040\n",
      "1060\n",
      "1080\n",
      "Found 466 images belonging to 5 classes.\n",
      "20\n",
      "40\n",
      "60\n",
      "80\n",
      "100\n",
      "120\n",
      "140\n",
      "160\n",
      "180\n",
      "200\n",
      "220\n",
      "240\n",
      "260\n",
      "280\n",
      "300\n",
      "320\n",
      "340\n",
      "360\n",
      "380\n",
      "400\n",
      "420\n",
      "440\n",
      "460\n",
      "480\n"
     ]
    }
   ],
   "source": [
    "train_features, train_labels = extract_features(train_dir, 1074)\n",
    "test_features, test_labels = extract_features(test_dir, 466)"
   ]
  },
  {
   "cell_type": "code",
   "execution_count": 27,
   "metadata": {},
   "outputs": [],
   "source": [
    "train_features = np.reshape(train_features, (1074, 4 * 4 * 512))\n",
    "test_features = np.reshape(test_features, (466, 4 * 4 * 512))"
   ]
  },
  {
   "cell_type": "code",
   "execution_count": 28,
   "metadata": {},
   "outputs": [
    {
     "name": "stdout",
     "output_type": "stream",
     "text": [
      "Epoch 1/50\n",
      "54/54 [==============================] - 2s 38ms/step - loss: 1.7127 - acc: 0.2803\n",
      "Epoch 2/50\n",
      "54/54 [==============================] - 2s 33ms/step - loss: 1.3344 - acc: 0.4553\n",
      "Epoch 3/50\n",
      "54/54 [==============================] - 2s 32ms/step - loss: 1.1457 - acc: 0.5764\n",
      "Epoch 4/50\n",
      "54/54 [==============================] - 2s 37ms/step - loss: 0.9812 - acc: 0.6629\n",
      "Epoch 5/50\n",
      "54/54 [==============================] - 2s 33ms/step - loss: 0.8860 - acc: 0.6816\n",
      "Epoch 6/50\n",
      "54/54 [==============================] - 2s 34ms/step - loss: 0.7978 - acc: 0.7458\n",
      "Epoch 7/50\n",
      "54/54 [==============================] - 2s 35ms/step - loss: 0.7189 - acc: 0.7588\n",
      "Epoch 8/50\n",
      "54/54 [==============================] - 2s 35ms/step - loss: 0.6878 - acc: 0.7942\n",
      "Epoch 9/50\n",
      "54/54 [==============================] - 2s 33ms/step - loss: 0.6171 - acc: 0.8110\n",
      "Epoch 10/50\n",
      "54/54 [==============================] - 2s 33ms/step - loss: 0.5953 - acc: 0.8166: 1s - l\n",
      "Epoch 11/50\n",
      "54/54 [==============================] - 2s 37ms/step - loss: 0.5612 - acc: 0.8212\n",
      "Epoch 12/50\n",
      "54/54 [==============================] - 2s 33ms/step - loss: 0.5108 - acc: 0.8520\n",
      "Epoch 13/50\n",
      "54/54 [==============================] - 2s 33ms/step - loss: 0.4879 - acc: 0.8482\n",
      "Epoch 14/50\n",
      "54/54 [==============================] - 2s 37ms/step - loss: 0.4722 - acc: 0.8678\n",
      "Epoch 15/50\n",
      "54/54 [==============================] - 2s 36ms/step - loss: 0.4465 - acc: 0.8669\n",
      "Epoch 16/50\n",
      "54/54 [==============================] - 2s 34ms/step - loss: 0.4372 - acc: 0.8799\n",
      "Epoch 17/50\n",
      "54/54 [==============================] - 2s 36ms/step - loss: 0.4093 - acc: 0.8892\n",
      "Epoch 18/50\n",
      "54/54 [==============================] - 2s 35ms/step - loss: 0.3847 - acc: 0.8957\n",
      "Epoch 19/50\n",
      "54/54 [==============================] - 2s 34ms/step - loss: 0.3848 - acc: 0.9004\n",
      "Epoch 20/50\n",
      "54/54 [==============================] - 2s 34ms/step - loss: 0.3545 - acc: 0.9050\n",
      "Epoch 21/50\n",
      "54/54 [==============================] - 2s 37ms/step - loss: 0.3388 - acc: 0.9162\n",
      "Epoch 22/50\n",
      "54/54 [==============================] - 2s 33ms/step - loss: 0.3405 - acc: 0.9125\n",
      "Epoch 23/50\n",
      "54/54 [==============================] - 2s 33ms/step - loss: 0.3094 - acc: 0.9171\n",
      "Epoch 24/50\n",
      "54/54 [==============================] - 2s 40ms/step - loss: 0.2926 - acc: 0.9376\n",
      "Epoch 25/50\n",
      "54/54 [==============================] - 2s 36ms/step - loss: 0.2797 - acc: 0.9339\n",
      "Epoch 26/50\n",
      "54/54 [==============================] - 2s 33ms/step - loss: 0.2792 - acc: 0.9274\n",
      "Epoch 27/50\n",
      "54/54 [==============================] - 2s 36ms/step - loss: 0.2648 - acc: 0.9264\n",
      "Epoch 28/50\n",
      "54/54 [==============================] - 2s 34ms/step - loss: 0.2485 - acc: 0.9413\n",
      "Epoch 29/50\n",
      "54/54 [==============================] - 2s 33ms/step - loss: 0.2550 - acc: 0.9413\n",
      "Epoch 30/50\n",
      "54/54 [==============================] - 2s 36ms/step - loss: 0.2374 - acc: 0.9441\n",
      "Epoch 31/50\n",
      "54/54 [==============================] - 2s 36ms/step - loss: 0.2427 - acc: 0.9404\n",
      "Epoch 32/50\n",
      "54/54 [==============================] - 2s 34ms/step - loss: 0.2099 - acc: 0.9488\n",
      "Epoch 33/50\n",
      "54/54 [==============================] - 2s 34ms/step - loss: 0.2049 - acc: 0.9534\n",
      "Epoch 34/50\n",
      "54/54 [==============================] - 2s 37ms/step - loss: 0.1963 - acc: 0.9544\n",
      "Epoch 35/50\n",
      "54/54 [==============================] - 2s 33ms/step - loss: 0.1913 - acc: 0.9572\n",
      "Epoch 36/50\n",
      "54/54 [==============================] - 2s 33ms/step - loss: 0.1859 - acc: 0.9618\n",
      "Epoch 37/50\n",
      "54/54 [==============================] - 2s 40ms/step - loss: 0.1833 - acc: 0.9628: 0s - loss: 0.1789 - acc: \n",
      "Epoch 38/50\n",
      "54/54 [==============================] - 2s 34ms/step - loss: 0.1836 - acc: 0.9572\n",
      "Epoch 39/50\n",
      "54/54 [==============================] - 2s 34ms/step - loss: 0.1620 - acc: 0.9665\n",
      "Epoch 40/50\n",
      "54/54 [==============================] - 2s 36ms/step - loss: 0.1618 - acc: 0.9628\n",
      "Epoch 41/50\n",
      "54/54 [==============================] - 2s 35ms/step - loss: 0.1596 - acc: 0.9665\n",
      "Epoch 42/50\n",
      "54/54 [==============================] - 2s 34ms/step - loss: 0.1449 - acc: 0.9767\n",
      "Epoch 43/50\n",
      "54/54 [==============================] - 2s 34ms/step - loss: 0.1382 - acc: 0.9767\n",
      "Epoch 44/50\n",
      "54/54 [==============================] - 2s 36ms/step - loss: 0.1390 - acc: 0.9739\n",
      "Epoch 45/50\n",
      "54/54 [==============================] - 2s 33ms/step - loss: 0.1284 - acc: 0.9758\n",
      "Epoch 46/50\n",
      "54/54 [==============================] - 2s 33ms/step - loss: 0.1292 - acc: 0.9767\n",
      "Epoch 47/50\n",
      "54/54 [==============================] - 2s 38ms/step - loss: 0.1234 - acc: 0.9767\n",
      "Epoch 48/50\n",
      "54/54 [==============================] - 2s 33ms/step - loss: 0.1184 - acc: 0.9814\n",
      "Epoch 49/50\n",
      "54/54 [==============================] - 2s 33ms/step - loss: 0.1150 - acc: 0.9832\n",
      "Epoch 50/50\n",
      "54/54 [==============================] - 2s 36ms/step - loss: 0.1218 - acc: 0.9777\n"
     ]
    }
   ],
   "source": [
    "history = model.fit(train_features, train_labels, epochs = 50, batch_size = 20)"
   ]
  },
  {
   "cell_type": "code",
   "execution_count": 29,
   "metadata": {},
   "outputs": [
    {
     "name": "stdout",
     "output_type": "stream",
     "text": [
      "15/15 - 0s - loss: 0.2416 - acc: 0.9356\n"
     ]
    }
   ],
   "source": [
    "test_loss, test_acc = model.evaluate(test_features, test_labels, verbose=2)"
   ]
  },
  {
   "cell_type": "code",
   "execution_count": 30,
   "metadata": {},
   "outputs": [
    {
     "data": {
      "image/png": "[encoded data removed]",
      "text/plain": [
       "<Figure size 432x288 with 1 Axes>"
      ]
     },
     "metadata": {
      "needs_background": "light"
     },
     "output_type": "display_data"
    },
    {
     "data": {
      "image/png": "[encoded data removed]",
      "text/plain": [
       "<Figure size 432x288 with 1 Axes>"
      ]
     },
     "metadata": {
      "needs_background": "light"
     },
     "output_type": "display_data"
    }
   ],
   "source": [
    "acc = history.history['acc']\n",
    "loss = history.history['loss']\n",
    "\n",
    "epochs = range(1, len(acc) + 1)\n",
    "plt.plot(epochs, acc, 'bo', label= 'Training Accuracy')\n",
    "plt.title('Training Accuracy')\n",
    "plt.legend()\n",
    "plt.figure()\n",
    "plt.plot(epochs, loss, 'bo', label = 'Training Loss')\n",
    "plt.title('Training Loss')\n",
    "plt.legend()\n",
    "\n",
    "plt.show()"
   ]
  },
  {
   "cell_type": "code",
   "execution_count": 31,
   "metadata": {},
   "outputs": [],
   "source": [
    "model.save('YogaPoseClassifierRegularCustomDB.h5')"
   ]
  },
  {
   "cell_type": "markdown",
   "metadata": {},
   "source": [
    "# Open Pose Only"
   ]
  },
  {
   "cell_type": "code",
   "execution_count": 33,
   "metadata": {},
   "outputs": [
    {
     "name": "stdout",
     "output_type": "stream",
     "text": [
      "Found 1082 images belonging to 5 classes.\n",
      "20\n",
      "40\n",
      "60\n",
      "80\n",
      "100\n",
      "120\n",
      "140\n",
      "160\n",
      "180\n",
      "200\n",
      "220\n",
      "240\n",
      "260\n",
      "280\n",
      "300\n",
      "320\n",
      "340\n",
      "360\n",
      "380\n",
      "400\n",
      "420\n",
      "440\n",
      "460\n",
      "480\n",
      "500\n",
      "520\n",
      "540\n",
      "560\n",
      "580\n",
      "600\n",
      "620\n",
      "640\n",
      "660\n",
      "680\n",
      "700\n",
      "720\n",
      "740\n",
      "760\n",
      "780\n",
      "800\n",
      "820\n",
      "840\n",
      "860\n",
      "880\n",
      "900\n",
      "920\n",
      "940\n",
      "960\n",
      "980\n",
      "1000\n",
      "1020\n",
      "1040\n",
      "1060\n",
      "1080\n",
      "1100\n",
      "Found 469 images belonging to 5 classes.\n",
      "20\n",
      "40\n",
      "60\n",
      "80\n",
      "100\n",
      "120\n",
      "140\n",
      "160\n",
      "180\n",
      "200\n",
      "220\n",
      "240\n",
      "260\n",
      "280\n",
      "300\n",
      "320\n",
      "340\n",
      "360\n",
      "380\n",
      "400\n",
      "420\n",
      "440\n",
      "460\n",
      "480\n"
     ]
    }
   ],
   "source": [
    "train_features_black, train_labels_black = extract_features(train_dir_black, 1082)\n",
    "test_features_black, test_labels_black = extract_features(test_dir_black, 469)"
   ]
  },
  {
   "cell_type": "code",
   "execution_count": 34,
   "metadata": {},
   "outputs": [],
   "source": [
    "train_features_black = np.reshape(train_features_black, (1082, 4 * 4 * 512))\n",
    "test_features_black = np.reshape(test_features_black, (469, 4 * 4 * 512))"
   ]
  },
  {
   "cell_type": "code",
   "execution_count": 35,
   "metadata": {},
   "outputs": [],
   "source": [
    "model = models.Sequential()\n",
    "model.add(layers.Dense(256, activation = 'relu', input_dim = 4 * 4 * 512))\n",
    "model.add(layers.Dropout(0.5))\n",
    "model.add(layers.Dense(5, activation = 'softmax'))"
   ]
  },
  {
   "cell_type": "code",
   "execution_count": 36,
   "metadata": {},
   "outputs": [],
   "source": [
    "model.compile(optimizer = optimizers.RMSprop(lr=2e-5), loss = 'categorical_crossentropy', metrics = ['acc'])"
   ]
  },
  {
   "cell_type": "code",
   "execution_count": 37,
   "metadata": {},
   "outputs": [
    {
     "name": "stdout",
     "output_type": "stream",
     "text": [
      "Epoch 1/50\n",
      "55/55 [==============================] - 2s 35ms/step - loss: 1.6735 - acc: 0.2606\n",
      "Epoch 2/50\n",
      "55/55 [==============================] - 2s 40ms/step - loss: 1.4539 - acc: 0.3882\n",
      "Epoch 3/50\n",
      "55/55 [==============================] - 2s 36ms/step - loss: 1.3237 - acc: 0.4843\n",
      "Epoch 4/50\n",
      "55/55 [==============================] - 2s 35ms/step - loss: 1.2187 - acc: 0.5296\n",
      "Epoch 5/50\n",
      "55/55 [==============================] - 2s 33ms/step - loss: 1.1181 - acc: 0.5961\n",
      "Epoch 6/50\n",
      "55/55 [==============================] - 2s 31ms/step - loss: 1.0764 - acc: 0.6220\n",
      "Epoch 7/50\n",
      "55/55 [==============================] - 2s 31ms/step - loss: 1.0268 - acc: 0.6506\n",
      "Epoch 8/50\n",
      "55/55 [==============================] - 2s 35ms/step - loss: 0.9674 - acc: 0.6710\n",
      "Epoch 9/50\n",
      "55/55 [==============================] - 2s 31ms/step - loss: 0.9473 - acc: 0.6765\n",
      "Epoch 10/50\n",
      "55/55 [==============================] - 2s 31ms/step - loss: 0.9124 - acc: 0.6885\n",
      "Epoch 11/50\n",
      "55/55 [==============================] - 3s 46ms/step - loss: 0.8771 - acc: 0.7116: 0s - loss: 0.8757 - acc: 0.71\n",
      "Epoch 12/50\n",
      "55/55 [==============================] - 2s 44ms/step - loss: 0.8592 - acc: 0.7227\n",
      "Epoch 13/50\n",
      "55/55 [==============================] - 2s 35ms/step - loss: 0.8458 - acc: 0.7218\n",
      "Epoch 14/50\n",
      "55/55 [==============================] - 2s 35ms/step - loss: 0.8261 - acc: 0.7274\n",
      "Epoch 15/50\n",
      "55/55 [==============================] - 2s 36ms/step - loss: 0.8021 - acc: 0.7449\n",
      "Epoch 16/50\n",
      "55/55 [==============================] - 2s 34ms/step - loss: 0.7945 - acc: 0.7301\n",
      "Epoch 17/50\n",
      "55/55 [==============================] - 2s 33ms/step - loss: 0.7753 - acc: 0.7458\n",
      "Epoch 18/50\n",
      "55/55 [==============================] - 2s 36ms/step - loss: 0.7699 - acc: 0.7597\n",
      "Epoch 19/50\n",
      "55/55 [==============================] - 2s 33ms/step - loss: 0.7597 - acc: 0.7569\n",
      "Epoch 20/50\n",
      "55/55 [==============================] - 2s 33ms/step - loss: 0.7355 - acc: 0.7671\n",
      "Epoch 21/50\n",
      "55/55 [==============================] - 2s 36ms/step - loss: 0.7067 - acc: 0.7671\n",
      "Epoch 22/50\n",
      "55/55 [==============================] - 2s 33ms/step - loss: 0.7063 - acc: 0.7745\n",
      "Epoch 23/50\n",
      "55/55 [==============================] - 2s 33ms/step - loss: 0.6862 - acc: 0.7736\n",
      "Epoch 24/50\n",
      "55/55 [==============================] - 2s 36ms/step - loss: 0.6974 - acc: 0.7708\n",
      "Epoch 25/50\n",
      "55/55 [==============================] - 2s 33ms/step - loss: 0.6614 - acc: 0.7884\n",
      "Epoch 26/50\n",
      "55/55 [==============================] - 2s 33ms/step - loss: 0.6627 - acc: 0.7911\n",
      "Epoch 27/50\n",
      "55/55 [==============================] - 2s 35ms/step - loss: 0.6491 - acc: 0.7847\n",
      "Epoch 28/50\n",
      "55/55 [==============================] - 2s 35ms/step - loss: 0.6365 - acc: 0.7957\n",
      "Epoch 29/50\n",
      "55/55 [==============================] - 2s 33ms/step - loss: 0.6276 - acc: 0.7994\n",
      "Epoch 30/50\n",
      "55/55 [==============================] - 2s 34ms/step - loss: 0.6189 - acc: 0.7985\n",
      "Epoch 31/50\n",
      "55/55 [==============================] - 2s 36ms/step - loss: 0.6164 - acc: 0.8078\n",
      "Epoch 32/50\n",
      "55/55 [==============================] - 2s 33ms/step - loss: 0.6032 - acc: 0.8161\n",
      "Epoch 33/50\n",
      "55/55 [==============================] - 2s 33ms/step - loss: 0.6027 - acc: 0.8096\n",
      "Epoch 34/50\n",
      "55/55 [==============================] - 2s 36ms/step - loss: 0.5827 - acc: 0.8207\n",
      "Epoch 35/50\n",
      "55/55 [==============================] - 2s 33ms/step - loss: 0.5875 - acc: 0.8226\n",
      "Epoch 36/50\n",
      "55/55 [==============================] - 2s 33ms/step - loss: 0.5809 - acc: 0.8115\n",
      "Epoch 37/50\n",
      "55/55 [==============================] - 2s 36ms/step - loss: 0.5557 - acc: 0.8290\n",
      "Epoch 38/50\n",
      "55/55 [==============================] - 2s 33ms/step - loss: 0.5631 - acc: 0.8327\n",
      "Epoch 39/50\n",
      "55/55 [==============================] - 2s 33ms/step - loss: 0.5561 - acc: 0.8253\n",
      "Epoch 40/50\n",
      "55/55 [==============================] - 2s 35ms/step - loss: 0.5515 - acc: 0.8309\n",
      "Epoch 41/50\n",
      "55/55 [==============================] - 2s 34ms/step - loss: 0.5505 - acc: 0.8272\n",
      "Epoch 42/50\n",
      "55/55 [==============================] - 2s 33ms/step - loss: 0.5443 - acc: 0.8281\n",
      "Epoch 43/50\n",
      "55/55 [==============================] - 2s 33ms/step - loss: 0.5194 - acc: 0.8484\n",
      "Epoch 44/50\n",
      "55/55 [==============================] - 2s 37ms/step - loss: 0.5336 - acc: 0.8420\n",
      "Epoch 45/50\n",
      "55/55 [==============================] - 2s 34ms/step - loss: 0.5239 - acc: 0.8457\n",
      "Epoch 46/50\n",
      "55/55 [==============================] - 2s 34ms/step - loss: 0.5076 - acc: 0.8475\n",
      "Epoch 47/50\n",
      "55/55 [==============================] - 2s 37ms/step - loss: 0.5065 - acc: 0.8438\n",
      "Epoch 48/50\n",
      "55/55 [==============================] - 2s 33ms/step - loss: 0.5053 - acc: 0.8373\n",
      "Epoch 49/50\n",
      "55/55 [==============================] - 2s 33ms/step - loss: 0.4935 - acc: 0.8503\n",
      "Epoch 50/50\n",
      "55/55 [==============================] - 2s 37ms/step - loss: 0.4834 - acc: 0.8521\n"
     ]
    }
   ],
   "source": [
    "history = model.fit(train_features_black, train_labels_black, epochs = 50, batch_size = 20)"
   ]
  },
  {
   "cell_type": "code",
   "execution_count": 38,
   "metadata": {},
   "outputs": [
    {
     "name": "stdout",
     "output_type": "stream",
     "text": [
      "15/15 - 0s - loss: 1.1688 - acc: 0.5644\n"
     ]
    }
   ],
   "source": [
    "test_loss, test_acc = model.evaluate(test_features, test_labels, verbose=2)"
   ]
  },
  {
   "cell_type": "code",
   "execution_count": 39,
   "metadata": {},
   "outputs": [
    {
     "data": {
      "image/png": "[encoded data removed]",
      "text/plain": [
       "<Figure size 432x288 with 1 Axes>"
      ]
     },
     "metadata": {
      "needs_background": "light"
     },
     "output_type": "display_data"
    },
    {
     "data": {
      "image/png": "[encoded data removed]",
      "text/plain": [
       "<Figure size 432x288 with 1 Axes>"
      ]
     },
     "metadata": {
      "needs_background": "light"
     },
     "output_type": "display_data"
    }
   ],
   "source": [
    "acc = history.history['acc']\n",
    "loss = history.history['loss']\n",
    "\n",
    "epochs = range(1, len(acc) + 1)\n",
    "plt.plot(epochs, acc, 'bo', label= 'Training Accuracy')\n",
    "plt.title('Training Accuracy')\n",
    "plt.legend()\n",
    "plt.figure()\n",
    "plt.plot(epochs, loss, 'bo', label = 'Training Loss')\n",
    "plt.title('Training Loss')\n",
    "plt.legend()\n",
    "\n",
    "plt.show()"
   ]
  },
  {
   "cell_type": "code",
   "execution_count": 40,
   "metadata": {},
   "outputs": [],
   "source": [
    "model.save('YogaPoseClassifierBlackCustomDB.h5')"
   ]
  },
  {
   "cell_type": "markdown",
   "metadata": {},
   "source": [
    "# Open Pose and Image"
   ]
  },
  {
   "cell_type": "code",
   "execution_count": 42,
   "metadata": {},
   "outputs": [
    {
     "name": "stdout",
     "output_type": "stream",
     "text": [
      "Found 1082 images belonging to 5 classes.\n",
      "20\n",
      "40\n",
      "60\n",
      "80\n",
      "100\n",
      "120\n",
      "140\n",
      "160\n",
      "180\n",
      "200\n",
      "220\n",
      "240\n",
      "260\n",
      "280\n",
      "300\n",
      "320\n",
      "340\n",
      "360\n",
      "380\n",
      "400\n",
      "420\n",
      "440\n",
      "460\n",
      "480\n",
      "500\n",
      "520\n",
      "540\n",
      "560\n",
      "580\n",
      "600\n",
      "620\n",
      "640\n",
      "660\n",
      "680\n",
      "700\n",
      "720\n",
      "740\n",
      "760\n",
      "780\n",
      "800\n",
      "820\n",
      "840\n",
      "860\n",
      "880\n",
      "900\n",
      "920\n",
      "940\n",
      "960\n",
      "980\n",
      "1000\n",
      "1020\n",
      "1040\n",
      "1060\n",
      "1080\n",
      "1100\n",
      "Found 469 images belonging to 5 classes.\n",
      "20\n",
      "40\n",
      "60\n",
      "80\n",
      "100\n",
      "120\n",
      "140\n",
      "160\n",
      "180\n",
      "200\n",
      "220\n",
      "240\n",
      "260\n",
      "280\n",
      "300\n",
      "320\n",
      "340\n",
      "360\n",
      "380\n",
      "400\n",
      "420\n",
      "440\n",
      "460\n",
      "480\n"
     ]
    }
   ],
   "source": [
    "train_features_op, train_labels_op = extract_features(train_dir_op, 1082)\n",
    "test_features_op, test_labels_op = extract_features(test_dir_op, 469)"
   ]
  },
  {
   "cell_type": "code",
   "execution_count": 43,
   "metadata": {},
   "outputs": [],
   "source": [
    "train_features_op = np.reshape(train_features_op, (1082, 4 * 4 * 512))\n",
    "test_features_op = np.reshape(test_features_op, (469, 4 * 4 * 512))"
   ]
  },
  {
   "cell_type": "code",
   "execution_count": 44,
   "metadata": {},
   "outputs": [],
   "source": [
    "model = models.Sequential()\n",
    "model.add(layers.Dense(256, activation = 'relu', input_dim = 4 * 4 * 512))\n",
    "model.add(layers.Dropout(0.5))\n",
    "model.add(layers.Dense(5, activation = 'softmax'))"
   ]
  },
  {
   "cell_type": "code",
   "execution_count": 45,
   "metadata": {},
   "outputs": [],
   "source": [
    "model.compile(optimizer = optimizers.RMSprop(lr=2e-5), loss = 'categorical_crossentropy', metrics = ['acc'])"
   ]
  },
  {
   "cell_type": "code",
   "execution_count": 46,
   "metadata": {
    "scrolled": true
   },
   "outputs": [
    {
     "name": "stdout",
     "output_type": "stream",
     "text": [
      "Epoch 1/50\n",
      "55/55 [==============================] - 2s 34ms/step - loss: 1.6717 - acc: 0.2893\n",
      "Epoch 2/50\n",
      "55/55 [==============================] - 2s 35ms/step - loss: 1.3663 - acc: 0.4372: 1s -\n",
      "Epoch 3/50\n",
      "55/55 [==============================] - 2s 34ms/step - loss: 1.1080 - acc: 0.5878\n",
      "Epoch 4/50\n",
      "55/55 [==============================] - 2s 34ms/step - loss: 0.9864 - acc: 0.6590\n",
      "Epoch 5/50\n",
      "55/55 [==============================] - 2s 34ms/step - loss: 0.8737 - acc: 0.7116\n",
      "Epoch 6/50\n",
      "55/55 [==============================] - 2s 34ms/step - loss: 0.8091 - acc: 0.7329\n",
      "Epoch 7/50\n",
      "55/55 [==============================] - 2s 34ms/step - loss: 0.7408 - acc: 0.7726\n",
      "Epoch 8/50\n",
      "55/55 [==============================] - 2s 35ms/step - loss: 0.6710 - acc: 0.7902\n",
      "Epoch 9/50\n",
      "55/55 [==============================] - 2s 36ms/step - loss: 0.6347 - acc: 0.7994\n",
      "Epoch 10/50\n",
      "55/55 [==============================] - 2s 40ms/step - loss: 0.6127 - acc: 0.8105\n",
      "Epoch 11/50\n",
      "55/55 [==============================] - 2s 37ms/step - loss: 0.5757 - acc: 0.8253\n",
      "Epoch 12/50\n",
      "55/55 [==============================] - 2s 43ms/step - loss: 0.5324 - acc: 0.8290\n",
      "Epoch 13/50\n",
      "55/55 [==============================] - 2s 38ms/step - loss: 0.5078 - acc: 0.8494\n",
      "Epoch 14/50\n",
      "55/55 [==============================] - 2s 35ms/step - loss: 0.4978 - acc: 0.8466\n",
      "Epoch 15/50\n",
      "55/55 [==============================] - 2s 36ms/step - loss: 0.4662 - acc: 0.8595\n",
      "Epoch 16/50\n",
      "55/55 [==============================] - 2s 35ms/step - loss: 0.4384 - acc: 0.8678\n",
      "Epoch 17/50\n",
      "55/55 [==============================] - 2s 35ms/step - loss: 0.4143 - acc: 0.8799\n",
      "Epoch 18/50\n",
      "55/55 [==============================] - 2s 39ms/step - loss: 0.4137 - acc: 0.8900\n",
      "Epoch 19/50\n",
      "55/55 [==============================] - 2s 45ms/step - loss: 0.3898 - acc: 0.8900\n",
      "Epoch 20/50\n",
      "55/55 [==============================] - 2s 41ms/step - loss: 0.3678 - acc: 0.8993\n",
      "Epoch 21/50\n",
      "55/55 [==============================] - 2s 40ms/step - loss: 0.3606 - acc: 0.8993: 1s - loss\n",
      "Epoch 22/50\n",
      "55/55 [==============================] - 2s 36ms/step - loss: 0.3397 - acc: 0.9020\n",
      "Epoch 23/50\n",
      "55/55 [==============================] - 2s 34ms/step - loss: 0.3112 - acc: 0.9122\n",
      "Epoch 24/50\n",
      "55/55 [==============================] - 2s 34ms/step - loss: 0.3135 - acc: 0.9140\n",
      "Epoch 25/50\n",
      "55/55 [==============================] - 2s 32ms/step - loss: 0.3108 - acc: 0.9159\n",
      "Epoch 26/50\n",
      "55/55 [==============================] - 2s 31ms/step - loss: 0.2811 - acc: 0.9353\n",
      "Epoch 27/50\n",
      "55/55 [==============================] - 2s 37ms/step - loss: 0.2690 - acc: 0.9381\n",
      "Epoch 28/50\n",
      "55/55 [==============================] - 2s 35ms/step - loss: 0.2701 - acc: 0.9353\n",
      "Epoch 29/50\n",
      "55/55 [==============================] - 2s 33ms/step - loss: 0.2470 - acc: 0.9492\n",
      "Epoch 30/50\n",
      "55/55 [==============================] - 2s 33ms/step - loss: 0.2359 - acc: 0.9372\n",
      "Epoch 31/50\n",
      "55/55 [==============================] - 2s 32ms/step - loss: 0.2306 - acc: 0.9510: 1s - \n",
      "Epoch 32/50\n",
      "55/55 [==============================] - 2s 32ms/step - loss: 0.2149 - acc: 0.9510\n",
      "Epoch 33/50\n",
      "55/55 [==============================] - 2s 32ms/step - loss: 0.2194 - acc: 0.9519\n",
      "Epoch 34/50\n",
      "55/55 [==============================] - 2s 33ms/step - loss: 0.2121 - acc: 0.9492\n",
      "Epoch 35/50\n",
      "55/55 [==============================] - 2s 32ms/step - loss: 0.2012 - acc: 0.9501\n",
      "Epoch 36/50\n",
      "55/55 [==============================] - 2s 31ms/step - loss: 0.1929 - acc: 0.9584\n",
      "Epoch 37/50\n",
      "55/55 [==============================] - 2s 34ms/step - loss: 0.1841 - acc: 0.9603\n",
      "Epoch 38/50\n",
      "55/55 [==============================] - 2s 32ms/step - loss: 0.1674 - acc: 0.9695\n",
      "Epoch 39/50\n",
      "55/55 [==============================] - 2s 31ms/step - loss: 0.1664 - acc: 0.9677: 0s - loss: 0.1730 - acc: 0 - ETA: 0s - loss: 0.1732 - a\n",
      "Epoch 40/50\n",
      "55/55 [==============================] - 2s 37ms/step - loss: 0.1780 - acc: 0.9556\n",
      "Epoch 41/50\n",
      "55/55 [==============================] - 2s 39ms/step - loss: 0.1507 - acc: 0.9658\n",
      "Epoch 42/50\n",
      "55/55 [==============================] - 2s 31ms/step - loss: 0.1593 - acc: 0.9649\n",
      "Epoch 43/50\n",
      "55/55 [==============================] - 2s 32ms/step - loss: 0.1466 - acc: 0.9713\n",
      "Epoch 44/50\n",
      "55/55 [==============================] - 2s 34ms/step - loss: 0.1418 - acc: 0.9778\n",
      "Epoch 45/50\n",
      "55/55 [==============================] - 2s 34ms/step - loss: 0.1428 - acc: 0.9695\n",
      "Epoch 46/50\n",
      "55/55 [==============================] - 2s 32ms/step - loss: 0.1401 - acc: 0.9732: 1s - los\n",
      "Epoch 47/50\n",
      "55/55 [==============================] - 2s 33ms/step - loss: 0.1312 - acc: 0.9723\n",
      "Epoch 48/50\n",
      "55/55 [==============================] - 2s 33ms/step - loss: 0.1245 - acc: 0.9787\n",
      "Epoch 49/50\n",
      "55/55 [==============================] - ETA: 0s - loss: 0.1221 - acc: 0.976 - 2s 31ms/step - loss: 0.1221 - acc: 0.9760\n",
      "Epoch 50/50\n",
      "55/55 [==============================] - 2s 31ms/step - loss: 0.1121 - acc: 0.9806\n"
     ]
    }
   ],
   "source": [
    "history = model.fit(train_features_op, train_labels_op, epochs = 50, batch_size = 20)"
   ]
  },
  {
   "cell_type": "code",
   "execution_count": 47,
   "metadata": {},
   "outputs": [
    {
     "name": "stdout",
     "output_type": "stream",
     "text": [
      "15/15 - 0s - loss: 0.2608 - acc: 0.9147\n"
     ]
    }
   ],
   "source": [
    "test_loss, test_acc = model.evaluate(test_features_op, test_labels_op, verbose=2)"
   ]
  },
  {
   "cell_type": "code",
   "execution_count": 48,
   "metadata": {},
   "outputs": [
    {
     "data": {
      "image/png": "[encoded data removed]",
      "text/plain": [
       "<Figure size 432x288 with 1 Axes>"
      ]
     },
     "metadata": {
      "needs_background": "light"
     },
     "output_type": "display_data"
    },
    {
     "data": {
      "image/png": "[encoded data removed]",
      "text/plain": [
       "<Figure size 432x288 with 1 Axes>"
      ]
     },
     "metadata": {
      "needs_background": "light"
     },
     "output_type": "display_data"
    }
   ],
   "source": [
    "acc = history.history['acc']\n",
    "loss = history.history['loss']\n",
    "\n",
    "epochs = range(1, len(acc) + 1)\n",
    "plt.plot(epochs, acc, 'bo', label= 'Training Accuracy')\n",
    "plt.title('Training Accuracy')\n",
    "plt.legend()\n",
    "plt.figure()\n",
    "plt.plot(epochs, loss, 'bo', label = 'Training Loss')\n",
    "plt.title('Training Loss')\n",
    "plt.legend()\n",
    "\n",
    "plt.show()"
   ]
  },
  {
   "cell_type": "code",
   "execution_count": 49,
   "metadata": {},
   "outputs": [],
   "source": [
    "model.save('YogaPoseClassifierOpCustomDB.h5')"
   ]
  }
 ],
 "metadata": {
  "kernelspec": {
   "display_name": "Python 3",
   "language": "python",
   "name": "python3"
  },
  "language_info": {
   "codemirror_mode": {
    "name": "ipython",
    "version": 3
   },
   "file_extension": ".py",
   "mimetype": "text/x-python",
   "name": "python",
   "nbconvert_exporter": "python",
   "pygments_lexer": "ipython3",
   "version": "3.7.4"
  }
 },
 "nbformat": 4,
 "nbformat_minor": 2
}
