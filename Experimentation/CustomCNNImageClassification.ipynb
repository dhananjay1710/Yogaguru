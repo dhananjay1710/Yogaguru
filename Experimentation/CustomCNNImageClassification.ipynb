{
 "cells": [
  {
   "cell_type": "markdown",
   "metadata": {},
   "source": [
    "# Model"
   ]
  },
  {
   "cell_type": "code",
   "execution_count": 1,
   "metadata": {},
   "outputs": [],
   "source": [
    "from keras import layers\n",
    "from keras import models\n",
    "from keras import optimizers"
   ]
  },
  {
   "cell_type": "code",
   "execution_count": 2,
   "metadata": {},
   "outputs": [],
   "source": [
    "model = models.Sequential()\n",
    "model.add(layers.Conv2D(32, (3,3), activation = 'relu', input_shape = (150, 150, 3)))\n",
    "model.add(layers.MaxPooling2D(2, 2))\n",
    "model.add(layers.Conv2D(64, (3,3), activation = 'relu'))\n",
    "model.add(layers.MaxPooling2D(2, 2))\n",
    "model.add(layers.Conv2D(128, (3,3), activation = 'relu'))\n",
    "model.add(layers.MaxPooling2D(2, 2))\n",
    "model.add(layers.Conv2D(128, (3,3), activation = 'relu'))\n",
    "model.add(layers.MaxPooling2D(2, 2))\n",
    "model.add(layers.Flatten())\n",
    "model.add(layers.Dropout(0.5))\n",
    "model.add(layers.Dense(512, activation='relu'))\n",
    "model.add(layers.Dense(5, activation='softmax'))"
   ]
  },
  {
   "cell_type": "code",
   "execution_count": 3,
   "metadata": {},
   "outputs": [],
   "source": [
    "model.compile(loss='categorical_crossentropy', optimizer = optimizers.RMSprop(lr = 1e-4), metrics = ['acc'])"
   ]
  },
  {
   "cell_type": "markdown",
   "metadata": {},
   "source": [
    "# Using Image Data Generator"
   ]
  },
  {
   "cell_type": "code",
   "execution_count": 4,
   "metadata": {},
   "outputs": [],
   "source": [
    "from keras.preprocessing.image import ImageDataGenerator\n",
    "from PIL import ImageFile\n",
    "ImageFile.LOAD_TRUNCATED_IMAGES = True\n",
    "\n",
    "train_datagen = ImageDataGenerator(1./255)\n",
    "test_datagen = ImageDataGenerator(1./255)"
   ]
  },
  {
   "cell_type": "code",
   "execution_count": 5,
   "metadata": {},
   "outputs": [],
   "source": [
    "base_dir = 'DataBaseCustom/DATASET'\n",
    "train_dir = base_dir + '/TRAIN'\n",
    "test_dir = base_dir + '/TEST'"
   ]
  },
  {
   "cell_type": "code",
   "execution_count": 6,
   "metadata": {},
   "outputs": [
    {
     "name": "stdout",
     "output_type": "stream",
     "text": [
      "Found 1074 images belonging to 5 classes.\n"
     ]
    }
   ],
   "source": [
    "train_generator = train_datagen.flow_from_directory(\n",
    "    train_dir,\n",
    "    target_size = (150, 150),\n",
    "    batch_size = 20,\n",
    "    class_mode = 'categorical')"
   ]
  },
  {
   "cell_type": "code",
   "execution_count": 7,
   "metadata": {},
   "outputs": [
    {
     "name": "stdout",
     "output_type": "stream",
     "text": [
      "Found 466 images belonging to 5 classes.\n"
     ]
    }
   ],
   "source": [
    "test_generator = test_datagen.flow_from_directory(\n",
    "    test_dir,\n",
    "    target_size = (150, 150),\n",
    "    batch_size = 20,\n",
    "    class_mode = 'categorical')"
   ]
  },
  {
   "cell_type": "code",
   "execution_count": 8,
   "metadata": {
    "scrolled": false
   },
   "outputs": [
    {
     "name": "stderr",
     "output_type": "stream",
     "text": [
      "C:\\Users\\Dhananjay\\Anaconda3\\lib\\site-packages\\keras_preprocessing\\image\\image_data_generator.py:720: UserWarning: This ImageDataGenerator specifies `featurewise_center`, but it hasn't been fit on any training data. Fit it first by calling `.fit(numpy_data)`.\n",
      "  warnings.warn('This ImageDataGenerator specifies '\n"
     ]
    },
    {
     "name": "stdout",
     "output_type": "stream",
     "text": [
      "Epoch 1/50\n"
     ]
    },
    {
     "name": "stderr",
     "output_type": "stream",
     "text": [
      "C:\\Users\\Dhananjay\\Anaconda3\\lib\\site-packages\\PIL\\Image.py:989: UserWarning: Palette images with Transparency expressed in bytes should be converted to RGBA images\n",
      "  \"Palette images with Transparency expressed in bytes should be \"\n"
     ]
    },
    {
     "name": "stdout",
     "output_type": "stream",
     "text": [
      "20/20 [==============================] - 18s 918ms/step - loss: 23.2711 - acc: 0.2300\n",
      "Epoch 2/50\n",
      "20/20 [==============================] - 22s 1s/step - loss: 4.2518 - acc: 0.2665\n",
      "Epoch 3/50\n",
      "20/20 [==============================] - 18s 922ms/step - loss: 2.2346 - acc: 0.3075\n",
      "Epoch 4/50\n",
      "20/20 [==============================] - 21s 1s/step - loss: 1.8316 - acc: 0.3426\n",
      "Epoch 5/50\n",
      "20/20 [==============================] - 18s 920ms/step - loss: 1.7166 - acc: 0.3275\n",
      "Epoch 6/50\n",
      "20/20 [==============================] - 19s 954ms/step - loss: 1.6467 - acc: 0.3400\n",
      "Epoch 7/50\n",
      "20/20 [==============================] - 18s 876ms/step - loss: 1.5224 - acc: 0.4225\n",
      "Epoch 8/50\n",
      "20/20 [==============================] - 20s 993ms/step - loss: 1.3921 - acc: 0.4325\n",
      "Epoch 9/50\n",
      "20/20 [==============================] - 18s 878ms/step - loss: 1.4765 - acc: 0.4416\n",
      "Epoch 10/50\n",
      "20/20 [==============================] - 18s 887ms/step - loss: 1.4669 - acc: 0.4600\n",
      "Epoch 11/50\n",
      "20/20 [==============================] - 16s 817ms/step - loss: 1.3761 - acc: 0.4625\n",
      "Epoch 12/50\n",
      "20/20 [==============================] - 20s 982ms/step - loss: 1.2232 - acc: 0.5178\n",
      "Epoch 13/50\n",
      "20/20 [==============================] - 19s 939ms/step - loss: 1.2611 - acc: 0.4898\n",
      "Epoch 14/50\n",
      "20/20 [==============================] - 17s 847ms/step - loss: 1.2423 - acc: 0.5475\n",
      "Epoch 15/50\n",
      "20/20 [==============================] - 20s 977ms/step - loss: 1.1652 - acc: 0.5525\n",
      "Epoch 16/50\n",
      "20/20 [==============================] - 18s 888ms/step - loss: 1.1281 - acc: 0.5750\n",
      "Epoch 17/50\n",
      "20/20 [==============================] - 30s 1s/step - loss: 1.0501 - acc: 0.5825\n",
      "Epoch 18/50\n",
      "20/20 [==============================] - 29s 1s/step - loss: 0.9708 - acc: 0.6218\n",
      "Epoch 19/50\n",
      "20/20 [==============================] - 29s 1s/step - loss: 0.9939 - acc: 0.6294\n",
      "Epoch 20/50\n",
      "20/20 [==============================] - 29s 1s/step - loss: 0.9600 - acc: 0.6300\n",
      "Epoch 21/50\n",
      "20/20 [==============================] - 25s 1s/step - loss: 0.9765 - acc: 0.6472\n",
      "Epoch 22/50\n",
      "20/20 [==============================] - 31s 2s/step - loss: 0.9260 - acc: 0.6875\n",
      "Epoch 23/50\n",
      "20/20 [==============================] - 27s 1s/step - loss: 0.8088 - acc: 0.6825\n",
      "Epoch 24/50\n",
      "20/20 [==============================] - 39s 2s/step - loss: 0.8495 - acc: 0.6750\n",
      "Epoch 25/50\n",
      "20/20 [==============================] - 46s 2s/step - loss: 0.8372 - acc: 0.6827\n",
      "Epoch 26/50\n",
      "20/20 [==============================] - 48s 2s/step - loss: 0.6970 - acc: 0.7350\n",
      "Epoch 27/50\n",
      "20/20 [==============================] - 30s 2s/step - loss: 0.6674 - acc: 0.7725\n",
      "Epoch 28/50\n",
      "20/20 [==============================] - 29s 1s/step - loss: 0.8489 - acc: 0.7275\n",
      "Epoch 29/50\n",
      "20/20 [==============================] - 26s 1s/step - loss: 0.6818 - acc: 0.7400\n",
      "Epoch 30/50\n",
      "20/20 [==============================] - 32s 2s/step - loss: 0.6141 - acc: 0.7843\n",
      "Epoch 31/50\n",
      "20/20 [==============================] - 43s 2s/step - loss: 0.6556 - acc: 0.7589\n",
      "Epoch 32/50\n",
      "20/20 [==============================] - 38s 2s/step - loss: 0.5982 - acc: 0.7792\n",
      "Epoch 33/50\n",
      "20/20 [==============================] - 28s 1s/step - loss: 0.6133 - acc: 0.7925\n",
      "Epoch 34/50\n",
      "20/20 [==============================] - 35s 2s/step - loss: 0.6629 - acc: 0.7538\n",
      "Epoch 35/50\n",
      "20/20 [==============================] - 35s 2s/step - loss: 0.5231 - acc: 0.8275\n",
      "Epoch 36/50\n",
      "20/20 [==============================] - 52s 3s/step - loss: 0.6260 - acc: 0.7925\n",
      "Epoch 37/50\n",
      "20/20 [==============================] - 49s 2s/step - loss: 0.4967 - acc: 0.8299\n",
      "Epoch 38/50\n",
      "20/20 [==============================] - 49s 2s/step - loss: 0.5339 - acc: 0.8198\n",
      "Epoch 39/50\n",
      "20/20 [==============================] - 37s 2s/step - loss: 0.4916 - acc: 0.8225\n",
      "Epoch 40/50\n",
      "20/20 [==============================] - 37s 2s/step - loss: 0.5262 - acc: 0.8299\n",
      "Epoch 41/50\n",
      "20/20 [==============================] - 52s 3s/step - loss: 0.5406 - acc: 0.8122\n",
      "Epoch 42/50\n",
      "20/20 [==============================] - 51s 3s/step - loss: 0.4649 - acc: 0.8400\n",
      "Epoch 43/50\n",
      "20/20 [==============================] - 49s 2s/step - loss: 0.5448 - acc: 0.7919\n",
      "Epoch 44/50\n",
      "20/20 [==============================] - 25s 1s/step - loss: 0.4311 - acc: 0.8500\n",
      "Epoch 45/50\n",
      "20/20 [==============================] - 17s 865ms/step - loss: 0.3829 - acc: 0.8650\n",
      "Epoch 46/50\n",
      "20/20 [==============================] - 18s 910ms/step - loss: 0.4310 - acc: 0.8553\n",
      "Epoch 47/50\n",
      "20/20 [==============================] - 18s 913ms/step - loss: 0.3635 - acc: 0.8825\n",
      "Epoch 48/50\n",
      "20/20 [==============================] - 19s 951ms/step - loss: 0.4060 - acc: 0.8604\n",
      "Epoch 49/50\n",
      "20/20 [==============================] - 20s 992ms/step - loss: 0.4277 - acc: 0.8550\n",
      "Epoch 50/50\n",
      "20/20 [==============================] - 18s 912ms/step - loss: 0.3158 - acc: 0.8825\n"
     ]
    }
   ],
   "source": [
    "history = model.fit(train_generator, steps_per_epoch = 20, epochs = 50)"
   ]
  },
  {
   "cell_type": "code",
   "execution_count": 9,
   "metadata": {},
   "outputs": [
    {
     "name": "stdout",
     "output_type": "stream",
     "text": [
      "24/24 - 14s - loss: 1.2642 - acc: 0.6824\n"
     ]
    }
   ],
   "source": [
    "test_loss, test_acc = model.evaluate(test_generator, verbose=2)"
   ]
  },
  {
   "cell_type": "code",
   "execution_count": 10,
   "metadata": {},
   "outputs": [
    {
     "data": {
      "image/png": "[encoded data removed]",
      "text/plain": [
       "<Figure size 432x288 with 1 Axes>"
      ]
     },
     "metadata": {
      "needs_background": "light"
     },
     "output_type": "display_data"
    },
    {
     "data": {
      "image/png": "[encoded data removed]",
      "text/plain": [
       "<Figure size 432x288 with 1 Axes>"
      ]
     },
     "metadata": {
      "needs_background": "light"
     },
     "output_type": "display_data"
    }
   ],
   "source": [
    "import matplotlib.pyplot as plt\n",
    "%matplotlib inline\n",
    "\n",
    "acc = history.history['acc']\n",
    "loss = history.history['loss']\n",
    "\n",
    "epochs = range(1, len(acc) + 1)\n",
    "plt.plot(epochs, acc, 'bo', label= 'Training Accuracy')\n",
    "plt.title('Training Accuracy')\n",
    "plt.legend()\n",
    "plt.figure()\n",
    "plt.plot(epochs, loss, 'bo', label = 'Training Loss')\n",
    "plt.title('Training Loss')\n",
    "plt.legend()\n",
    "\n",
    "plt.show()"
   ]
  },
  {
   "cell_type": "code",
   "execution_count": 11,
   "metadata": {},
   "outputs": [],
   "source": [
    "model.save('YogaPoseClassifierCNNRegularCustomDB.h5')"
   ]
  },
  {
   "cell_type": "markdown",
   "metadata": {},
   "source": [
    "# Open pose only"
   ]
  },
  {
   "cell_type": "code",
   "execution_count": 12,
   "metadata": {},
   "outputs": [],
   "source": [
    "model = models.Sequential()\n",
    "model.add(layers.Conv2D(32, (3,3), activation = 'relu', input_shape = (150, 150, 3)))\n",
    "model.add(layers.MaxPooling2D(2, 2))\n",
    "model.add(layers.Conv2D(64, (3,3), activation = 'relu'))\n",
    "model.add(layers.MaxPooling2D(2, 2))\n",
    "model.add(layers.Conv2D(128, (3,3), activation = 'relu'))\n",
    "model.add(layers.MaxPooling2D(2, 2))\n",
    "model.add(layers.Conv2D(128, (3,3), activation = 'relu'))\n",
    "model.add(layers.MaxPooling2D(2, 2))\n",
    "model.add(layers.Flatten())\n",
    "model.add(layers.Dropout(0.5))\n",
    "model.add(layers.Dense(512, activation='relu'))\n",
    "model.add(layers.Dense(5, activation='softmax'))"
   ]
  },
  {
   "cell_type": "code",
   "execution_count": 13,
   "metadata": {},
   "outputs": [],
   "source": [
    "model.compile(loss='categorical_crossentropy', optimizer = optimizers.RMSprop(lr = 1e-4), metrics = ['acc'])"
   ]
  },
  {
   "cell_type": "code",
   "execution_count": 14,
   "metadata": {},
   "outputs": [],
   "source": [
    "train_datagen = ImageDataGenerator(1./255)\n",
    "test_datagen = ImageDataGenerator(1./255)"
   ]
  },
  {
   "cell_type": "code",
   "execution_count": 15,
   "metadata": {},
   "outputs": [],
   "source": [
    "base_dir = 'DataBaseCustom/DATASET_BLACK'\n",
    "train_dir = base_dir + '/TRAIN'\n",
    "test_dir = base_dir + '/TEST'"
   ]
  },
  {
   "cell_type": "code",
   "execution_count": 16,
   "metadata": {},
   "outputs": [
    {
     "name": "stdout",
     "output_type": "stream",
     "text": [
      "Found 1082 images belonging to 5 classes.\n"
     ]
    }
   ],
   "source": [
    "train_generator = train_datagen.flow_from_directory(\n",
    "    train_dir,\n",
    "    target_size = (150, 150),\n",
    "    batch_size = 20,\n",
    "    class_mode = 'categorical')"
   ]
  },
  {
   "cell_type": "code",
   "execution_count": 17,
   "metadata": {},
   "outputs": [
    {
     "name": "stdout",
     "output_type": "stream",
     "text": [
      "Found 469 images belonging to 5 classes.\n"
     ]
    }
   ],
   "source": [
    "test_generator = test_datagen.flow_from_directory(\n",
    "    test_dir,\n",
    "    target_size = (150, 150),\n",
    "    batch_size = 20,\n",
    "    class_mode = 'categorical')"
   ]
  },
  {
   "cell_type": "code",
   "execution_count": 19,
   "metadata": {},
   "outputs": [
    {
     "name": "stdout",
     "output_type": "stream",
     "text": [
      "Epoch 1/50\n",
      "20/20 [==============================] - 14s 675ms/step - loss: 7.1450 - acc: 0.3927\n",
      "Epoch 2/50\n",
      "20/20 [==============================] - 13s 665ms/step - loss: 4.0273 - acc: 0.4475\n",
      "Epoch 3/50\n",
      "20/20 [==============================] - 15s 734ms/step - loss: 2.7252 - acc: 0.4825\n",
      "Epoch 4/50\n",
      "20/20 [==============================] - 15s 729ms/step - loss: 2.1602 - acc: 0.5157\n",
      "Epoch 5/50\n",
      "20/20 [==============================] - 15s 730ms/step - loss: 1.5340 - acc: 0.5750\n",
      "Epoch 6/50\n",
      "20/20 [==============================] - 14s 707ms/step - loss: 1.0960 - acc: 0.6550\n",
      "Epoch 7/50\n",
      "20/20 [==============================] - 14s 710ms/step - loss: 1.0901 - acc: 0.6475\n",
      "Epoch 8/50\n",
      "20/20 [==============================] - 13s 662ms/step - loss: 1.0190 - acc: 0.7068\n",
      "Epoch 9/50\n",
      "20/20 [==============================] - 14s 702ms/step - loss: 0.8164 - acc: 0.7500\n",
      "Epoch 10/50\n",
      "20/20 [==============================] - 14s 710ms/step - loss: 0.7133 - acc: 0.7750\n",
      "Epoch 11/50\n",
      "20/20 [==============================] - 14s 711ms/step - loss: 0.6123 - acc: 0.7975\n",
      "Epoch 12/50\n",
      "20/20 [==============================] - 15s 732ms/step - loss: 0.6124 - acc: 0.7950\n",
      "Epoch 13/50\n",
      "20/20 [==============================] - 14s 688ms/step - loss: 0.5036 - acc: 0.8351\n",
      "Epoch 14/50\n",
      "20/20 [==============================] - 14s 716ms/step - loss: 0.5965 - acc: 0.7975\n",
      "Epoch 15/50\n",
      "20/20 [==============================] - 14s 693ms/step - loss: 0.4951 - acc: 0.8534\n",
      "Epoch 16/50\n",
      "20/20 [==============================] - 14s 694ms/step - loss: 0.4282 - acc: 0.8403\n",
      "Epoch 17/50\n",
      "20/20 [==============================] - 15s 739ms/step - loss: 0.4501 - acc: 0.8625\n",
      "Epoch 18/50\n",
      "20/20 [==============================] - 14s 700ms/step - loss: 0.3894 - acc: 0.8625\n",
      "Epoch 19/50\n",
      "20/20 [==============================] - 14s 711ms/step - loss: 0.3364 - acc: 0.8975\n",
      "Epoch 20/50\n",
      "20/20 [==============================] - 14s 724ms/step - loss: 0.2811 - acc: 0.9250\n",
      "Epoch 21/50\n",
      "20/20 [==============================] - 14s 721ms/step - loss: 0.2354 - acc: 0.9150\n",
      "Epoch 22/50\n",
      "20/20 [==============================] - 14s 704ms/step - loss: 0.2739 - acc: 0.8901\n",
      "Epoch 23/50\n",
      "20/20 [==============================] - 14s 685ms/step - loss: 0.2834 - acc: 0.8850\n",
      "Epoch 24/50\n",
      "20/20 [==============================] - 15s 731ms/step - loss: 0.2722 - acc: 0.9050\n",
      "Epoch 25/50\n",
      "20/20 [==============================] - 14s 723ms/step - loss: 0.2042 - acc: 0.9293\n",
      "Epoch 26/50\n",
      "20/20 [==============================] - 13s 664ms/step - loss: 0.3039 - acc: 0.9005\n",
      "Epoch 27/50\n",
      "20/20 [==============================] - 15s 733ms/step - loss: 0.1751 - acc: 0.9425\n",
      "Epoch 28/50\n",
      "20/20 [==============================] - 14s 721ms/step - loss: 0.1772 - acc: 0.9475\n",
      "Epoch 29/50\n",
      "20/20 [==============================] - 15s 736ms/step - loss: 0.1933 - acc: 0.9450\n",
      "Epoch 30/50\n",
      "20/20 [==============================] - 14s 695ms/step - loss: 0.1990 - acc: 0.9500\n",
      "Epoch 31/50\n",
      "20/20 [==============================] - 14s 712ms/step - loss: 0.1760 - acc: 0.9375\n",
      "Epoch 32/50\n",
      "20/20 [==============================] - 14s 705ms/step - loss: 0.1787 - acc: 0.9250\n",
      "Epoch 33/50\n",
      "20/20 [==============================] - 15s 745ms/step - loss: 0.1546 - acc: 0.9525\n",
      "Epoch 34/50\n",
      "20/20 [==============================] - 14s 717ms/step - loss: 0.1024 - acc: 0.9625\n",
      "Epoch 35/50\n",
      "20/20 [==============================] - 14s 687ms/step - loss: 0.1563 - acc: 0.9529\n",
      "Epoch 36/50\n",
      "20/20 [==============================] - 15s 736ms/step - loss: 0.1045 - acc: 0.9525\n",
      "Epoch 37/50\n",
      "20/20 [==============================] - 14s 695ms/step - loss: 0.1206 - acc: 0.9450\n",
      "Epoch 38/50\n",
      "20/20 [==============================] - 15s 775ms/step - loss: 0.1694 - acc: 0.9375\n",
      "Epoch 39/50\n",
      "20/20 [==============================] - 19s 949ms/step - loss: 0.1463 - acc: 0.9650\n",
      "Epoch 40/50\n",
      "20/20 [==============================] - 19s 970ms/step - loss: 0.1361 - acc: 0.9555\n",
      "Epoch 41/50\n",
      "20/20 [==============================] - 20s 1s/step - loss: 0.1489 - acc: 0.9575\n",
      "Epoch 42/50\n",
      "20/20 [==============================] - 19s 955ms/step - loss: 0.1758 - acc: 0.9555\n",
      "Epoch 43/50\n",
      "20/20 [==============================] - 22s 1s/step - loss: 0.0747 - acc: 0.9650\n",
      "Epoch 44/50\n",
      "20/20 [==============================] - 20s 999ms/step - loss: 0.1637 - acc: 0.9425\n",
      "Epoch 45/50\n",
      "20/20 [==============================] - 18s 877ms/step - loss: 0.0813 - acc: 0.9675\n",
      "Epoch 46/50\n",
      "20/20 [==============================] - 19s 957ms/step - loss: 0.1874 - acc: 0.9503\n",
      "Epoch 47/50\n",
      "20/20 [==============================] - 17s 835ms/step - loss: 0.1698 - acc: 0.9581\n",
      "Epoch 48/50\n",
      "20/20 [==============================] - 16s 819ms/step - loss: 0.0986 - acc: 0.9750\n",
      "Epoch 49/50\n",
      "20/20 [==============================] - 16s 801ms/step - loss: 0.1107 - acc: 0.9581\n",
      "Epoch 50/50\n",
      "20/20 [==============================] - 17s 845ms/step - loss: 0.1172 - acc: 0.9529\n"
     ]
    }
   ],
   "source": [
    "history = model.fit(train_generator, steps_per_epoch = 20, epochs = 50)"
   ]
  },
  {
   "cell_type": "code",
   "execution_count": 20,
   "metadata": {},
   "outputs": [
    {
     "name": "stdout",
     "output_type": "stream",
     "text": [
      "24/24 - 10s - loss: 0.8805 - acc: 0.8017\n"
     ]
    }
   ],
   "source": [
    "test_loss, test_acc = model.evaluate(test_generator, verbose=2)"
   ]
  },
  {
   "cell_type": "code",
   "execution_count": 21,
   "metadata": {},
   "outputs": [
    {
     "data": {
      "image/png": "[encoded data removed]",
      "text/plain": [
       "<Figure size 432x288 with 1 Axes>"
      ]
     },
     "metadata": {
      "needs_background": "light"
     },
     "output_type": "display_data"
    },
    {
     "data": {
      "image/png": "[encoded data removed]",
      "text/plain": [
       "<Figure size 432x288 with 1 Axes>"
      ]
     },
     "metadata": {
      "needs_background": "light"
     },
     "output_type": "display_data"
    }
   ],
   "source": [
    "acc = history.history['acc']\n",
    "loss = history.history['loss']\n",
    "\n",
    "epochs = range(1, len(acc) + 1)\n",
    "plt.plot(epochs, acc, 'bo', label= 'Training Accuracy')\n",
    "plt.title('Training Accuracy')\n",
    "plt.legend()\n",
    "plt.figure()\n",
    "plt.plot(epochs, loss, 'bo', label = 'Training Loss')\n",
    "plt.title('Training Loss')\n",
    "plt.legend()\n",
    "\n",
    "plt.show()"
   ]
  },
  {
   "cell_type": "code",
   "execution_count": 22,
   "metadata": {},
   "outputs": [],
   "source": [
    "model.save('YogaPoseClassifierCNNBlackCustomDB.h5')"
   ]
  },
  {
   "cell_type": "markdown",
   "metadata": {},
   "source": [
    "# Open pose and Image"
   ]
  },
  {
   "cell_type": "code",
   "execution_count": 23,
   "metadata": {},
   "outputs": [],
   "source": [
    "model = models.Sequential()\n",
    "model.add(layers.Conv2D(32, (3,3), activation = 'relu', input_shape = (150, 150, 3)))\n",
    "model.add(layers.MaxPooling2D(2, 2))\n",
    "model.add(layers.Conv2D(64, (3,3), activation = 'relu'))\n",
    "model.add(layers.MaxPooling2D(2, 2))\n",
    "model.add(layers.Conv2D(128, (3,3), activation = 'relu'))\n",
    "model.add(layers.MaxPooling2D(2, 2))\n",
    "model.add(layers.Conv2D(128, (3,3), activation = 'relu'))\n",
    "model.add(layers.MaxPooling2D(2, 2))\n",
    "model.add(layers.Flatten())\n",
    "model.add(layers.Dropout(0.5))\n",
    "model.add(layers.Dense(512, activation='relu'))\n",
    "model.add(layers.Dense(5, activation='softmax'))"
   ]
  },
  {
   "cell_type": "code",
   "execution_count": 24,
   "metadata": {},
   "outputs": [],
   "source": [
    "model.compile(loss='categorical_crossentropy', optimizer = optimizers.RMSprop(lr = 1e-4), metrics = ['acc'])"
   ]
  },
  {
   "cell_type": "code",
   "execution_count": 25,
   "metadata": {},
   "outputs": [],
   "source": [
    "train_datagen = ImageDataGenerator(1./255)\n",
    "test_datagen = ImageDataGenerator(1./255)"
   ]
  },
  {
   "cell_type": "code",
   "execution_count": 26,
   "metadata": {},
   "outputs": [],
   "source": [
    "base_dir = 'DataBaseCustom/DATASET_OP'\n",
    "train_dir = base_dir + '/TRAIN'\n",
    "test_dir = base_dir + '/TEST'"
   ]
  },
  {
   "cell_type": "code",
   "execution_count": 27,
   "metadata": {},
   "outputs": [
    {
     "name": "stdout",
     "output_type": "stream",
     "text": [
      "Found 1082 images belonging to 5 classes.\n"
     ]
    }
   ],
   "source": [
    "train_generator = train_datagen.flow_from_directory(\n",
    "    train_dir,\n",
    "    target_size = (150, 150),\n",
    "    batch_size = 20,\n",
    "    class_mode = 'categorical')"
   ]
  },
  {
   "cell_type": "code",
   "execution_count": 28,
   "metadata": {},
   "outputs": [
    {
     "name": "stdout",
     "output_type": "stream",
     "text": [
      "Found 469 images belonging to 5 classes.\n"
     ]
    }
   ],
   "source": [
    "test_generator = test_datagen.flow_from_directory(\n",
    "    test_dir,\n",
    "    target_size = (150, 150),\n",
    "    batch_size = 20,\n",
    "    class_mode = 'categorical')"
   ]
  },
  {
   "cell_type": "code",
   "execution_count": 29,
   "metadata": {},
   "outputs": [
    {
     "name": "stdout",
     "output_type": "stream",
     "text": [
      "Epoch 1/50\n",
      "20/20 [==============================] - 17s 830ms/step - loss: 17.5146 - acc: 0.2700\n",
      "Epoch 2/50\n",
      "20/20 [==============================] - 15s 733ms/step - loss: 3.9106 - acc: 0.3089\n",
      "Epoch 3/50\n",
      "20/20 [==============================] - 15s 754ms/step - loss: 2.3271 - acc: 0.3534\n",
      "Epoch 4/50\n",
      "20/20 [==============================] - 16s 792ms/step - loss: 1.8384 - acc: 0.4188\n",
      "Epoch 5/50\n",
      "20/20 [==============================] - 17s 875ms/step - loss: 1.5155 - acc: 0.4712\n",
      "Epoch 6/50\n",
      "20/20 [==============================] - 28s 1s/step - loss: 1.4607 - acc: 0.4600\n",
      "Epoch 7/50\n",
      "20/20 [==============================] - 30s 2s/step - loss: 1.3980 - acc: 0.4625\n",
      "Epoch 8/50\n",
      "20/20 [==============================] - 32s 2s/step - loss: 1.1802 - acc: 0.5950\n",
      "Epoch 9/50\n",
      "20/20 [==============================] - 30s 2s/step - loss: 1.1046 - acc: 0.6000\n",
      "Epoch 10/50\n",
      "20/20 [==============================] - 46s 2s/step - loss: 1.0679 - acc: 0.6050\n",
      "Epoch 11/50\n",
      "20/20 [==============================] - 50s 3s/step - loss: 0.9875 - acc: 0.6250\n",
      "Epoch 12/50\n",
      "20/20 [==============================] - 47s 2s/step - loss: 1.1390 - acc: 0.6230\n",
      "Epoch 13/50\n",
      "20/20 [==============================] - 48s 2s/step - loss: 0.9383 - acc: 0.6400\n",
      "Epoch 14/50\n",
      "20/20 [==============================] - 46s 2s/step - loss: 0.8482 - acc: 0.6925\n",
      "Epoch 15/50\n",
      "20/20 [==============================] - 46s 2s/step - loss: 0.8267 - acc: 0.7025\n",
      "Epoch 16/50\n",
      "20/20 [==============================] - 36s 2s/step - loss: 0.8066 - acc: 0.7125\n",
      "Epoch 17/50\n",
      "20/20 [==============================] - 21s 1s/step - loss: 0.7078 - acc: 0.7565\n",
      "Epoch 18/50\n",
      "20/20 [==============================] - 26s 1s/step - loss: 0.6740 - acc: 0.7475\n",
      "Epoch 19/50\n",
      "20/20 [==============================] - 21s 1s/step - loss: 0.6436 - acc: 0.7827\n",
      "Epoch 20/50\n",
      "20/20 [==============================] - 16s 803ms/step - loss: 0.6526 - acc: 0.7592\n",
      "Epoch 21/50\n",
      "20/20 [==============================] - 15s 756ms/step - loss: 0.5451 - acc: 0.8050\n",
      "Epoch 22/50\n",
      "20/20 [==============================] - 15s 756ms/step - loss: 0.5742 - acc: 0.8025\n",
      "Epoch 23/50\n",
      "20/20 [==============================] - 15s 742ms/step - loss: 0.5619 - acc: 0.7906\n",
      "Epoch 24/50\n",
      "20/20 [==============================] - 15s 755ms/step - loss: 0.5775 - acc: 0.7950\n",
      "Epoch 25/50\n",
      "20/20 [==============================] - 16s 798ms/step - loss: 0.4673 - acc: 0.8400\n",
      "Epoch 26/50\n",
      "20/20 [==============================] - 15s 746ms/step - loss: 0.5760 - acc: 0.7975\n",
      "Epoch 27/50\n",
      "20/20 [==============================] - 15s 748ms/step - loss: 0.4222 - acc: 0.8613\n",
      "Epoch 28/50\n",
      "20/20 [==============================] - 14s 713ms/step - loss: 0.5108 - acc: 0.8403\n",
      "Epoch 29/50\n",
      "20/20 [==============================] - 16s 796ms/step - loss: 0.4427 - acc: 0.8425\n",
      "Epoch 30/50\n",
      "20/20 [==============================] - 16s 819ms/step - loss: 0.2958 - acc: 0.9050\n",
      "Epoch 31/50\n",
      "20/20 [==============================] - 18s 915ms/step - loss: 0.4146 - acc: 0.8525\n",
      "Epoch 32/50\n",
      "20/20 [==============================] - 22s 1s/step - loss: 0.3358 - acc: 0.8825\n",
      "Epoch 33/50\n",
      "20/20 [==============================] - 23s 1s/step - loss: 0.2812 - acc: 0.9050\n",
      "Epoch 34/50\n",
      "20/20 [==============================] - 22s 1s/step - loss: 0.3532 - acc: 0.8775\n",
      "Epoch 35/50\n",
      "20/20 [==============================] - 20s 1s/step - loss: 0.3975 - acc: 0.8625\n",
      "Epoch 36/50\n",
      "20/20 [==============================] - 19s 940ms/step - loss: 0.3213 - acc: 0.8796\n",
      "Epoch 37/50\n",
      "20/20 [==============================] - 16s 798ms/step - loss: 0.2868 - acc: 0.8950\n",
      "Epoch 38/50\n",
      "20/20 [==============================] - 15s 728ms/step - loss: 0.2349 - acc: 0.9215\n",
      "Epoch 39/50\n",
      "20/20 [==============================] - 14s 695ms/step - loss: 0.3696 - acc: 0.8927\n",
      "Epoch 40/50\n",
      "20/20 [==============================] - 15s 743ms/step - loss: 0.2980 - acc: 0.9110\n",
      "Epoch 41/50\n",
      "20/20 [==============================] - 15s 735ms/step - loss: 0.2343 - acc: 0.9215\n",
      "Epoch 42/50\n",
      "20/20 [==============================] - 15s 764ms/step - loss: 0.2961 - acc: 0.9215\n",
      "Epoch 43/50\n",
      "20/20 [==============================] - 16s 777ms/step - loss: 0.2439 - acc: 0.9225\n",
      "Epoch 44/50\n",
      "20/20 [==============================] - 16s 792ms/step - loss: 0.1668 - acc: 0.9475\n",
      "Epoch 45/50\n",
      "20/20 [==============================] - 17s 847ms/step - loss: 0.2039 - acc: 0.9500\n",
      "Epoch 46/50\n",
      "20/20 [==============================] - 20s 987ms/step - loss: 0.2473 - acc: 0.9188\n",
      "Epoch 47/50\n",
      "20/20 [==============================] - 22s 1s/step - loss: 0.1666 - acc: 0.9350\n",
      "Epoch 48/50\n",
      "20/20 [==============================] - 21s 1s/step - loss: 0.2012 - acc: 0.9450\n",
      "Epoch 49/50\n",
      "20/20 [==============================] - 20s 1s/step - loss: 0.1780 - acc: 0.9425\n",
      "Epoch 50/50\n",
      "20/20 [==============================] - 17s 834ms/step - loss: 0.1991 - acc: 0.9400\n"
     ]
    }
   ],
   "source": [
    "history = model.fit_generator(train_generator, steps_per_epoch = 20, epochs = 50)"
   ]
  },
  {
   "cell_type": "code",
   "execution_count": 30,
   "metadata": {},
   "outputs": [
    {
     "name": "stdout",
     "output_type": "stream",
     "text": [
      "24/24 - 12s - loss: 0.9747 - acc: 0.7569\n"
     ]
    }
   ],
   "source": [
    "test_loss, test_acc = model.evaluate(test_generator, verbose=2)"
   ]
  },
  {
   "cell_type": "code",
   "execution_count": 31,
   "metadata": {},
   "outputs": [
    {
     "data": {
      "image/png": "[encoded data removed]",
      "text/plain": [
       "<Figure size 432x288 with 1 Axes>"
      ]
     },
     "metadata": {
      "needs_background": "light"
     },
     "output_type": "display_data"
    },
    {
     "data": {
      "image/png": "[encoded data removed]",
      "text/plain": [
       "<Figure size 432x288 with 1 Axes>"
      ]
     },
     "metadata": {
      "needs_background": "light"
     },
     "output_type": "display_data"
    }
   ],
   "source": [
    "acc = history.history['acc']\n",
    "loss = history.history['loss']\n",
    "\n",
    "epochs = range(1, len(acc) + 1)\n",
    "plt.plot(epochs, acc, 'bo', label= 'Training Accuracy')\n",
    "plt.title('Training Accuracy')\n",
    "plt.legend()\n",
    "plt.figure()\n",
    "plt.plot(epochs, loss, 'bo', label = 'Training Loss')\n",
    "plt.title('Training Loss')\n",
    "plt.legend()\n",
    "\n",
    "plt.show()"
   ]
  },
  {
   "cell_type": "code",
   "execution_count": 32,
   "metadata": {},
   "outputs": [],
   "source": [
    "model.save('YogaPoseClassifierCNNOpCustomDB.h5')"
   ]
  },
  {
   "cell_type": "code",
   "execution_count": null,
   "metadata": {},
   "outputs": [],
   "source": []
  }
 ],
 "metadata": {
  "kernelspec": {
   "display_name": "Python 3",
   "language": "python",
   "name": "python3"
  },
  "language_info": {
   "codemirror_mode": {
    "name": "ipython",
    "version": 3
   },
   "file_extension": ".py",
   "mimetype": "text/x-python",
   "name": "python",
   "nbconvert_exporter": "python",
   "pygments_lexer": "ipython3",
   "version": "3.7.4"
  }
 },
 "nbformat": 4,
 "nbformat_minor": 2
}
