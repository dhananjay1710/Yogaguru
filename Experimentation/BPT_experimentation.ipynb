{
 "cells": [
  {
   "cell_type": "code",
   "execution_count": 1,
   "metadata": {},
   "outputs": [],
   "source": [
    "import pandas as pd\n",
    "import numpy as np\n",
    "import seaborn as sns\n",
    "import matplotlib.pyplot as plt"
   ]
  },
  {
   "cell_type": "code",
   "execution_count": 2,
   "metadata": {},
   "outputs": [
    {
     "data": {
      "text/html": [
       "<div>\n",
       "<style scoped>\n",
       "    .dataframe tbody tr th:only-of-type {\n",
       "        vertical-align: middle;\n",
       "    }\n",
       "\n",
       "    .dataframe tbody tr th {\n",
       "        vertical-align: top;\n",
       "    }\n",
       "\n",
       "    .dataframe thead th {\n",
       "        text-align: right;\n",
       "    }\n",
       "</style>\n",
       "<table border=\"1\" class=\"dataframe\">\n",
       "  <thead>\n",
       "    <tr style=\"text-align: right;\">\n",
       "      <th></th>\n",
       "      <th>elbow-l</th>\n",
       "      <th>elbow-r</th>\n",
       "      <th>knee-l</th>\n",
       "      <th>knee-r</th>\n",
       "      <th>kneck-l</th>\n",
       "      <th>kneck-r</th>\n",
       "      <th>leg-l</th>\n",
       "      <th>leg-r</th>\n",
       "      <th>back</th>\n",
       "      <th>Pose</th>\n",
       "    </tr>\n",
       "  </thead>\n",
       "  <tbody>\n",
       "    <tr>\n",
       "      <th>0</th>\n",
       "      <td>1000.000000</td>\n",
       "      <td>1000.00000</td>\n",
       "      <td>42.434996</td>\n",
       "      <td>51.547216</td>\n",
       "      <td>-40.236358</td>\n",
       "      <td>-86.241444</td>\n",
       "      <td>-37.772119</td>\n",
       "      <td>-86.583412</td>\n",
       "      <td>26.702122</td>\n",
       "      <td>warrior2</td>\n",
       "    </tr>\n",
       "    <tr>\n",
       "      <th>1</th>\n",
       "      <td>7.943472</td>\n",
       "      <td>163.17859</td>\n",
       "      <td>7.125016</td>\n",
       "      <td>-37.510047</td>\n",
       "      <td>98.004729</td>\n",
       "      <td>54.128032</td>\n",
       "      <td>-9.587833</td>\n",
       "      <td>-9.587833</td>\n",
       "      <td>-0.910198</td>\n",
       "      <td>halfMoon</td>\n",
       "    </tr>\n",
       "  </tbody>\n",
       "</table>\n",
       "</div>"
      ],
      "text/plain": [
       "       elbow-l     elbow-r     knee-l     knee-r    kneck-l    kneck-r  \\\n",
       "0  1000.000000  1000.00000  42.434996  51.547216 -40.236358 -86.241444   \n",
       "1     7.943472   163.17859   7.125016 -37.510047  98.004729  54.128032   \n",
       "\n",
       "       leg-l      leg-r       back      Pose  \n",
       "0 -37.772119 -86.583412  26.702122  warrior2  \n",
       "1  -9.587833  -9.587833  -0.910198  halfMoon  "
      ]
     },
     "execution_count": 2,
     "metadata": {},
     "output_type": "execute_result"
    }
   ],
   "source": [
    "train = pd.read_csv('train_openpose.csv')\n",
    "train.drop(columns = ['Unnamed: 0'], inplace = True)\n",
    "train = train.sample(frac=1).reset_index(drop=True)\n",
    "train.head(2)"
   ]
  },
  {
   "cell_type": "code",
   "execution_count": 3,
   "metadata": {},
   "outputs": [
    {
     "data": {
      "text/plain": [
       "(630, 10)"
      ]
     },
     "execution_count": 3,
     "metadata": {},
     "output_type": "execute_result"
    }
   ],
   "source": [
    "train_new = train[train['elbow-l'] < 1000]\n",
    "train_new = train_new[train_new['elbow-r'] < 1000]\n",
    "train_new = train_new[train_new['kneck-l'] < 1000]\n",
    "train_new = train_new[train_new['kneck-r'] < 1000]\n",
    "train_new = train_new[train_new['knee-l'] < 1000]\n",
    "train_new = train_new[train_new['knee-r'] < 1000]\n",
    "train_new = train_new[train_new['leg-l'] < 1000]\n",
    "train_new = train_new[train_new['leg-r'] < 1000]\n",
    "train_new = train_new[train_new['back'] < 1000]\n",
    "train_new.shape"
   ]
  },
  {
   "cell_type": "code",
   "execution_count": 4,
   "metadata": {},
   "outputs": [
    {
     "data": {
      "text/html": [
       "<div>\n",
       "<style scoped>\n",
       "    .dataframe tbody tr th:only-of-type {\n",
       "        vertical-align: middle;\n",
       "    }\n",
       "\n",
       "    .dataframe tbody tr th {\n",
       "        vertical-align: top;\n",
       "    }\n",
       "\n",
       "    .dataframe thead th {\n",
       "        text-align: right;\n",
       "    }\n",
       "</style>\n",
       "<table border=\"1\" class=\"dataframe\">\n",
       "  <thead>\n",
       "    <tr style=\"text-align: right;\">\n",
       "      <th></th>\n",
       "      <th>elbow-l</th>\n",
       "      <th>elbow-r</th>\n",
       "      <th>knee-l</th>\n",
       "      <th>knee-r</th>\n",
       "      <th>kneck-l</th>\n",
       "      <th>kneck-r</th>\n",
       "      <th>leg-l</th>\n",
       "      <th>leg-r</th>\n",
       "      <th>back</th>\n",
       "      <th>Pose</th>\n",
       "    </tr>\n",
       "  </thead>\n",
       "  <tbody>\n",
       "    <tr>\n",
       "      <th>0</th>\n",
       "      <td>40.90498</td>\n",
       "      <td>-39.996080</td>\n",
       "      <td>-84.820924</td>\n",
       "      <td>69.443955</td>\n",
       "      <td>119.898902</td>\n",
       "      <td>48.503532</td>\n",
       "      <td>50.559821</td>\n",
       "      <td>-55.662358</td>\n",
       "      <td>0.000000</td>\n",
       "      <td>goddess</td>\n",
       "    </tr>\n",
       "    <tr>\n",
       "      <th>1</th>\n",
       "      <td>1000.00000</td>\n",
       "      <td>171.573031</td>\n",
       "      <td>1000.000000</td>\n",
       "      <td>1000.000000</td>\n",
       "      <td>63.434949</td>\n",
       "      <td>26.565051</td>\n",
       "      <td>34.230578</td>\n",
       "      <td>1000.000000</td>\n",
       "      <td>-6.146626</td>\n",
       "      <td>halfMoon</td>\n",
       "    </tr>\n",
       "  </tbody>\n",
       "</table>\n",
       "</div>"
      ],
      "text/plain": [
       "      elbow-l     elbow-r       knee-l       knee-r     kneck-l    kneck-r  \\\n",
       "0    40.90498  -39.996080   -84.820924    69.443955  119.898902  48.503532   \n",
       "1  1000.00000  171.573031  1000.000000  1000.000000   63.434949  26.565051   \n",
       "\n",
       "       leg-l        leg-r      back      Pose  \n",
       "0  50.559821   -55.662358  0.000000   goddess  \n",
       "1  34.230578  1000.000000 -6.146626  halfMoon  "
      ]
     },
     "execution_count": 4,
     "metadata": {},
     "output_type": "execute_result"
    }
   ],
   "source": [
    "test = pd.read_csv('test_openpose.csv')\n",
    "test.drop(columns = ['Unnamed: 0'], inplace = True)\n",
    "test = test.sample(frac=1).reset_index(drop=True)\n",
    "test.head(2)"
   ]
  },
  {
   "cell_type": "code",
   "execution_count": 5,
   "metadata": {},
   "outputs": [
    {
     "data": {
      "text/plain": [
       "(292, 10)"
      ]
     },
     "execution_count": 5,
     "metadata": {},
     "output_type": "execute_result"
    }
   ],
   "source": [
    "test_new = test[test['elbow-l'] < 1000]\n",
    "test_new = test_new[test_new['elbow-r'] < 1000]\n",
    "test_new = test_new[test_new['kneck-l'] < 1000]\n",
    "test_new = test_new[test_new['kneck-r'] < 1000]\n",
    "test_new = test_new[test_new['knee-l'] < 1000]\n",
    "test_new = test_new[test_new['knee-r'] < 1000]\n",
    "test_new = test_new[test_new['leg-l'] < 1000]\n",
    "test_new = test_new[test_new['leg-r'] < 1000]\n",
    "test_new = test_new[test_new['back'] < 1000]\n",
    "test_new.shape"
   ]
  },
  {
   "cell_type": "code",
   "execution_count": 6,
   "metadata": {},
   "outputs": [],
   "source": [
    "train_x = train_new.iloc[:, :-1]\n",
    "train_y = train_new.iloc[:, -1]\n",
    "test_x = test_new.iloc[:, :-1]\n",
    "test_y = test_new.iloc[:, -1]"
   ]
  },
  {
   "cell_type": "code",
   "execution_count": 7,
   "metadata": {},
   "outputs": [],
   "source": [
    "from sklearn.preprocessing import StandardScaler\n",
    "sc = StandardScaler()\n",
    "train_x = sc.fit_transform(train_x)\n",
    "\n",
    "sc = StandardScaler()\n",
    "test_x = sc.fit_transform(test_x)"
   ]
  },
  {
   "cell_type": "code",
   "execution_count": 8,
   "metadata": {},
   "outputs": [
    {
     "name": "stdout",
     "output_type": "stream",
     "text": [
      "Accuracy: 0.6986301369863014\n",
      "[[53  2  3  3  9]\n",
      " [ 2 15  3 14  7]\n",
      " [ 1  2 37  5  0]\n",
      " [ 1  9  4 32  5]\n",
      " [ 1  0  5 12 67]]\n",
      "              precision    recall  f1-score   support\n",
      "\n",
      "     goddess       0.91      0.76      0.83        70\n",
      "    halfMoon       0.54      0.37      0.43        41\n",
      "        tree       0.71      0.82      0.76        45\n",
      "    triangle       0.48      0.63      0.55        51\n",
      "    warrior2       0.76      0.79      0.77        85\n",
      "\n",
      "    accuracy                           0.70       292\n",
      "   macro avg       0.68      0.67      0.67       292\n",
      "weighted avg       0.71      0.70      0.70       292\n",
      "\n"
     ]
    }
   ],
   "source": [
    "from sklearn.neighbors import KNeighborsClassifier\n",
    "from sklearn import metrics\n",
    "from sklearn.metrics import classification_report, confusion_matrix\n",
    "\n",
    "knn = KNeighborsClassifier(n_neighbors=1)\n",
    "knn.fit(train_x, train_y)\n",
    "y_pred = knn.predict(test_x)\n",
    "print(\"Accuracy:\",metrics.accuracy_score(test_y, y_pred))\n",
    "\n",
    "print(confusion_matrix(test_y, y_pred))\n",
    "print(classification_report(test_y, y_pred))"
   ]
  },
  {
   "cell_type": "code",
   "execution_count": 14,
   "metadata": {},
   "outputs": [],
   "source": [
    "nb = []\n",
    "acc = []\n",
    "for i in range(20):\n",
    "    nb.append(i+1)"
   ]
  },
  {
   "cell_type": "code",
   "execution_count": 15,
   "metadata": {},
   "outputs": [
    {
     "data": {
      "text/plain": [
       "[0.6986301369863014,\n",
       " 0.6506849315068494,\n",
       " 0.6541095890410958,\n",
       " 0.6678082191780822,\n",
       " 0.678082191780822,\n",
       " 0.6746575342465754,\n",
       " 0.6883561643835616,\n",
       " 0.660958904109589,\n",
       " 0.6541095890410958,\n",
       " 0.6232876712328768,\n",
       " 0.6164383561643836,\n",
       " 0.6061643835616438,\n",
       " 0.613013698630137,\n",
       " 0.6061643835616438,\n",
       " 0.6164383561643836,\n",
       " 0.6198630136986302,\n",
       " 0.6095890410958904,\n",
       " 0.6164383561643836,\n",
       " 0.6061643835616438,\n",
       " 0.5958904109589042]"
      ]
     },
     "execution_count": 15,
     "metadata": {},
     "output_type": "execute_result"
    }
   ],
   "source": [
    "from sklearn.metrics import accuracy_score\n",
    "\n",
    "for n in nb:\n",
    "    knn = KNeighborsClassifier(n_neighbors=n)\n",
    "    knn.fit(train_x, train_y)\n",
    "    y_pred = knn.predict(test_x) \n",
    "    acc.append(accuracy_score(test_y, y_pred))\n",
    "\n",
    "acc"
   ]
  },
  {
   "cell_type": "code",
   "execution_count": 16,
   "metadata": {
    "scrolled": true
   },
   "outputs": [
    {
     "data": {
      "text/plain": [
       "<AxesSubplot:>"
      ]
     },
     "execution_count": 16,
     "metadata": {},
     "output_type": "execute_result"
    },
    {
     "data": {
      "image/png": "[encoded data removed]",
      "text/plain": [
       "<Figure size 432x288 with 1 Axes>"
      ]
     },
     "metadata": {
      "needs_background": "light"
     },
     "output_type": "display_data"
    }
   ],
   "source": [
    "sns.lineplot(x = nb, y = acc)"
   ]
  },
  {
   "cell_type": "code",
   "execution_count": 23,
   "metadata": {},
   "outputs": [
    {
     "name": "stdout",
     "output_type": "stream",
     "text": [
      "Accuracy:  0.6643835616438356\n",
      "[[50  0  4  5 11]\n",
      " [ 2  4  0 29  6]\n",
      " [ 0  5 33  5  2]\n",
      " [ 3  2  3 37  6]\n",
      " [ 0  2  4  9 70]]\n",
      "              precision    recall  f1-score   support\n",
      "\n",
      "     goddess       0.91      0.71      0.80        70\n",
      "    halfMoon       0.31      0.10      0.15        41\n",
      "        tree       0.75      0.73      0.74        45\n",
      "    triangle       0.44      0.73      0.54        51\n",
      "    warrior2       0.74      0.82      0.78        85\n",
      "\n",
      "    accuracy                           0.66       292\n",
      "   macro avg       0.63      0.62      0.60       292\n",
      "weighted avg       0.67      0.66      0.65       292\n",
      "\n"
     ]
    }
   ],
   "source": [
    "from sklearn.svm import SVC\n",
    "svclassifier = SVC(kernel='rbf')\n",
    "svclassifier.fit(train_x, train_y)\n",
    "y_pred = svclassifier.predict(test_x)\n",
    "print(\"Accuracy: \", metrics.accuracy_score(test_y, y_pred))\n",
    "print(confusion_matrix(test_y, y_pred))\n",
    "print(classification_report(test_y, y_pred))"
   ]
  },
  {
   "cell_type": "code",
   "execution_count": 24,
   "metadata": {},
   "outputs": [
    {
     "data": {
      "text/plain": [
       "[0.6643835616438356, 0.6164383561643836, 0.565068493150685, 0.4315068493150685]"
      ]
     },
     "execution_count": 24,
     "metadata": {},
     "output_type": "execute_result"
    }
   ],
   "source": [
    "kernels = ['rbf', 'poly', 'linear', 'sigmoid']\n",
    "acc = []\n",
    "\n",
    "for k in kernels:\n",
    "    svclassifier = SVC(kernel=k)\n",
    "    svclassifier.fit(train_x, train_y)\n",
    "    y_pred = svclassifier.predict(test_x)\n",
    "    acc.append(accuracy_score(test_y, y_pred))\n",
    "acc"
   ]
  },
  {
   "cell_type": "code",
   "execution_count": 27,
   "metadata": {},
   "outputs": [
    {
     "data": {
      "text/plain": [
       "<AxesSubplot:>"
      ]
     },
     "execution_count": 27,
     "metadata": {},
     "output_type": "execute_result"
    },
    {
     "data": {
      "image/png": "[encoded data removed]",
      "text/plain": [
       "<Figure size 432x288 with 1 Axes>"
      ]
     },
     "metadata": {
      "needs_background": "light"
     },
     "output_type": "display_data"
    }
   ],
   "source": [
    "sns.barplot(x = kernels, y=acc)"
   ]
  },
  {
   "cell_type": "code",
   "execution_count": 29,
   "metadata": {},
   "outputs": [],
   "source": [
    "from sklearn.preprocessing import OneHotEncoder\n",
    "ohe = OneHotEncoder()\n",
    "train_y = np.array(train_y)\n",
    "train_y = train_y.reshape(-1, 1)\n",
    "train_y = ohe.fit_transform(train_y).toarray()\n",
    "\n",
    "ohe = OneHotEncoder()\n",
    "test_y = np.array(test_y)\n",
    "test_y = test_y.reshape(-1, 1)\n",
    "test_y = ohe.fit_transform(test_y).toarray()"
   ]
  },
  {
   "cell_type": "code",
   "execution_count": 37,
   "metadata": {},
   "outputs": [],
   "source": [
    "import keras\n",
    "from keras.models import Sequential\n",
    "from keras.layers import Dense\n",
    "\n",
    "model = Sequential()\n",
    "model.add(Dense(28, input_dim=9, activation='relu'))\n",
    "model.add(Dense(24, activation='relu'))\n",
    "model.add(Dense(20, activation='relu'))\n",
    "model.add(Dense(20, activation='relu'))\n",
    "model.add(Dense(16, activation='relu'))\n",
    "model.add(Dense(12, activation='relu'))\n",
    "model.add(Dense(8, activation='relu'))\n",
    "model.add(Dense(5, activation='softmax'))\n",
    "\n",
    "# 16,12, 5 -- 73, 64\n",
    "# 16,12, 8, 5 -- 78, 64\n",
    "# 20, 16,12, 8, 5 -- 85, 64.71\n",
    "# 20, 20, 16,12, 8, 5 -- 92, 65.41 -- peak model for testing\n",
    "# 24, 20, 20, 16,12, 8, 5 -- 97, 65.06\n",
    "# after this train increases little by little but test begins to drop\n",
    "\n",
    "\n",
    "model.compile(loss='categorical_crossentropy', optimizer='adam', metrics=['accuracy'])"
   ]
  },
  {
   "cell_type": "code",
   "execution_count": 38,
   "metadata": {},
   "outputs": [
    {
     "name": "stdout",
     "output_type": "stream",
     "text": [
      "Epoch 1/200\n",
      "10/10 [==============================] - 0s 2ms/step - loss: 1.6236 - accuracy: 0.1524\n",
      "Epoch 2/200\n",
      "10/10 [==============================] - 0s 2ms/step - loss: 1.6044 - accuracy: 0.2190\n",
      "Epoch 3/200\n",
      "10/10 [==============================] - 0s 2ms/step - loss: 1.5967 - accuracy: 0.3095\n",
      "Epoch 4/200\n",
      "10/10 [==============================] - 0s 2ms/step - loss: 1.5875 - accuracy: 0.3365\n",
      "Epoch 5/200\n",
      "10/10 [==============================] - 0s 2ms/step - loss: 1.5736 - accuracy: 0.3524\n",
      "Epoch 6/200\n",
      "10/10 [==============================] - 0s 2ms/step - loss: 1.5537 - accuracy: 0.3889\n",
      "Epoch 7/200\n",
      "10/10 [==============================] - 0s 2ms/step - loss: 1.5240 - accuracy: 0.4175\n",
      "Epoch 8/200\n",
      "10/10 [==============================] - 0s 2ms/step - loss: 1.4920 - accuracy: 0.4206\n",
      "Epoch 9/200\n",
      "10/10 [==============================] - 0s 2ms/step - loss: 1.4556 - accuracy: 0.4079\n",
      "Epoch 10/200\n",
      "10/10 [==============================] - 0s 2ms/step - loss: 1.4140 - accuracy: 0.4143\n",
      "Epoch 11/200\n",
      "10/10 [==============================] - 0s 2ms/step - loss: 1.3744 - accuracy: 0.4429\n",
      "Epoch 12/200\n",
      "10/10 [==============================] - 0s 2ms/step - loss: 1.3317 - accuracy: 0.4698\n",
      "Epoch 13/200\n",
      "10/10 [==============================] - 0s 2ms/step - loss: 1.2857 - accuracy: 0.5238\n",
      "Epoch 14/200\n",
      "10/10 [==============================] - 0s 2ms/step - loss: 1.2345 - accuracy: 0.5429\n",
      "Epoch 15/200\n",
      "10/10 [==============================] - 0s 2ms/step - loss: 1.1911 - accuracy: 0.5730\n",
      "Epoch 16/200\n",
      "10/10 [==============================] - 0s 2ms/step - loss: 1.1523 - accuracy: 0.5984\n",
      "Epoch 17/200\n",
      "10/10 [==============================] - 0s 3ms/step - loss: 1.1059 - accuracy: 0.6032\n",
      "Epoch 18/200\n",
      "10/10 [==============================] - 0s 2ms/step - loss: 1.0691 - accuracy: 0.6175\n",
      "Epoch 19/200\n",
      "10/10 [==============================] - 0s 2ms/step - loss: 1.0351 - accuracy: 0.6175\n",
      "Epoch 20/200\n",
      "10/10 [==============================] - 0s 3ms/step - loss: 1.0088 - accuracy: 0.6349\n",
      "Epoch 21/200\n",
      "10/10 [==============================] - 0s 2ms/step - loss: 0.9787 - accuracy: 0.6317\n",
      "Epoch 22/200\n",
      "10/10 [==============================] - 0s 2ms/step - loss: 0.9536 - accuracy: 0.6556\n",
      "Epoch 23/200\n",
      "10/10 [==============================] - 0s 2ms/step - loss: 0.9344 - accuracy: 0.6556\n",
      "Epoch 24/200\n",
      "10/10 [==============================] - 0s 2ms/step - loss: 0.9061 - accuracy: 0.6603\n",
      "Epoch 25/200\n",
      "10/10 [==============================] - 0s 2ms/step - loss: 0.8912 - accuracy: 0.6762\n",
      "Epoch 26/200\n",
      "10/10 [==============================] - 0s 3ms/step - loss: 0.8636 - accuracy: 0.6921\n",
      "Epoch 27/200\n",
      "10/10 [==============================] - 0s 4ms/step - loss: 0.8407 - accuracy: 0.7048\n",
      "Epoch 28/200\n",
      "10/10 [==============================] - 0s 2ms/step - loss: 0.8168 - accuracy: 0.7079\n",
      "Epoch 29/200\n",
      "10/10 [==============================] - 0s 3ms/step - loss: 0.8027 - accuracy: 0.6921\n",
      "Epoch 30/200\n",
      "10/10 [==============================] - 0s 3ms/step - loss: 0.7864 - accuracy: 0.7175\n",
      "Epoch 31/200\n",
      "10/10 [==============================] - 0s 2ms/step - loss: 0.7609 - accuracy: 0.7206\n",
      "Epoch 32/200\n",
      "10/10 [==============================] - 0s 3ms/step - loss: 0.7428 - accuracy: 0.7222\n",
      "Epoch 33/200\n",
      "10/10 [==============================] - 0s 3ms/step - loss: 0.7219 - accuracy: 0.7270\n",
      "Epoch 34/200\n",
      "10/10 [==============================] - 0s 3ms/step - loss: 0.7100 - accuracy: 0.7444\n",
      "Epoch 35/200\n",
      "10/10 [==============================] - 0s 2ms/step - loss: 0.6975 - accuracy: 0.7444\n",
      "Epoch 36/200\n",
      "10/10 [==============================] - 0s 3ms/step - loss: 0.6789 - accuracy: 0.7540\n",
      "Epoch 37/200\n",
      "10/10 [==============================] - 0s 3ms/step - loss: 0.6666 - accuracy: 0.7492\n",
      "Epoch 38/200\n",
      "10/10 [==============================] - 0s 3ms/step - loss: 0.6550 - accuracy: 0.7540\n",
      "Epoch 39/200\n",
      "10/10 [==============================] - 0s 6ms/step - loss: 0.6402 - accuracy: 0.7508\n",
      "Epoch 40/200\n",
      "10/10 [==============================] - 0s 2ms/step - loss: 0.6276 - accuracy: 0.7603\n",
      "Epoch 41/200\n",
      "10/10 [==============================] - 0s 2ms/step - loss: 0.6132 - accuracy: 0.7683\n",
      "Epoch 42/200\n",
      "10/10 [==============================] - 0s 3ms/step - loss: 0.6095 - accuracy: 0.7651\n",
      "Epoch 43/200\n",
      "10/10 [==============================] - 0s 2ms/step - loss: 0.5956 - accuracy: 0.7825\n",
      "Epoch 44/200\n",
      "10/10 [==============================] - 0s 3ms/step - loss: 0.5817 - accuracy: 0.7841\n",
      "Epoch 45/200\n",
      "10/10 [==============================] - 0s 3ms/step - loss: 0.5695 - accuracy: 0.7968\n",
      "Epoch 46/200\n",
      "10/10 [==============================] - 0s 3ms/step - loss: 0.5547 - accuracy: 0.7984\n",
      "Epoch 47/200\n",
      "10/10 [==============================] - 0s 2ms/step - loss: 0.5549 - accuracy: 0.7889\n",
      "Epoch 48/200\n",
      "10/10 [==============================] - 0s 3ms/step - loss: 0.5459 - accuracy: 0.7984\n",
      "Epoch 49/200\n",
      "10/10 [==============================] - 0s 3ms/step - loss: 0.5411 - accuracy: 0.7937\n",
      "Epoch 50/200\n",
      "10/10 [==============================] - 0s 2ms/step - loss: 0.5309 - accuracy: 0.7984\n",
      "Epoch 51/200\n",
      "10/10 [==============================] - 0s 2ms/step - loss: 0.5186 - accuracy: 0.8016\n",
      "Epoch 52/200\n",
      "10/10 [==============================] - 0s 2ms/step - loss: 0.5108 - accuracy: 0.8048\n",
      "Epoch 53/200\n",
      "10/10 [==============================] - 0s 3ms/step - loss: 0.5032 - accuracy: 0.8048\n",
      "Epoch 54/200\n",
      "10/10 [==============================] - 0s 3ms/step - loss: 0.4952 - accuracy: 0.8095\n",
      "Epoch 55/200\n",
      "10/10 [==============================] - 0s 2ms/step - loss: 0.4901 - accuracy: 0.8048\n",
      "Epoch 56/200\n",
      "10/10 [==============================] - 0s 2ms/step - loss: 0.4795 - accuracy: 0.8143\n",
      "Epoch 57/200\n",
      "10/10 [==============================] - 0s 2ms/step - loss: 0.4749 - accuracy: 0.8111\n",
      "Epoch 58/200\n",
      "10/10 [==============================] - 0s 1ms/step - loss: 0.4653 - accuracy: 0.8143\n",
      "Epoch 59/200\n",
      "10/10 [==============================] - 0s 2ms/step - loss: 0.4645 - accuracy: 0.8190\n",
      "Epoch 60/200\n",
      "10/10 [==============================] - 0s 2ms/step - loss: 0.4608 - accuracy: 0.8111\n",
      "Epoch 61/200\n",
      "10/10 [==============================] - 0s 2ms/step - loss: 0.4521 - accuracy: 0.8206\n",
      "Epoch 62/200\n",
      "10/10 [==============================] - 0s 2ms/step - loss: 0.4508 - accuracy: 0.8222\n",
      "Epoch 63/200\n",
      "10/10 [==============================] - 0s 2ms/step - loss: 0.4423 - accuracy: 0.8286\n",
      "Epoch 64/200\n",
      "10/10 [==============================] - 0s 2ms/step - loss: 0.4311 - accuracy: 0.8302\n",
      "Epoch 65/200\n",
      "10/10 [==============================] - 0s 2ms/step - loss: 0.4304 - accuracy: 0.8317\n",
      "Epoch 66/200\n",
      "10/10 [==============================] - 0s 2ms/step - loss: 0.4209 - accuracy: 0.8286\n",
      "Epoch 67/200\n",
      "10/10 [==============================] - 0s 2ms/step - loss: 0.4169 - accuracy: 0.8302\n",
      "Epoch 68/200\n",
      "10/10 [==============================] - 0s 2ms/step - loss: 0.4136 - accuracy: 0.8365\n",
      "Epoch 69/200\n",
      "10/10 [==============================] - 0s 2ms/step - loss: 0.4112 - accuracy: 0.8333\n",
      "Epoch 70/200\n",
      "10/10 [==============================] - 0s 2ms/step - loss: 0.4034 - accuracy: 0.8444\n",
      "Epoch 71/200\n",
      "10/10 [==============================] - 0s 2ms/step - loss: 0.4001 - accuracy: 0.8381\n",
      "Epoch 72/200\n",
      "10/10 [==============================] - 0s 2ms/step - loss: 0.3962 - accuracy: 0.8413\n",
      "Epoch 73/200\n",
      "10/10 [==============================] - 0s 1ms/step - loss: 0.3955 - accuracy: 0.8540\n",
      "Epoch 74/200\n",
      "10/10 [==============================] - 0s 2ms/step - loss: 0.3985 - accuracy: 0.8460\n",
      "Epoch 75/200\n",
      "10/10 [==============================] - 0s 2ms/step - loss: 0.3883 - accuracy: 0.8460\n",
      "Epoch 76/200\n",
      "10/10 [==============================] - 0s 2ms/step - loss: 0.3939 - accuracy: 0.8524\n",
      "Epoch 77/200\n",
      "10/10 [==============================] - 0s 2ms/step - loss: 0.3860 - accuracy: 0.8587\n",
      "Epoch 78/200\n",
      "10/10 [==============================] - 0s 2ms/step - loss: 0.3739 - accuracy: 0.8540\n",
      "Epoch 79/200\n",
      "10/10 [==============================] - 0s 2ms/step - loss: 0.3674 - accuracy: 0.8587\n",
      "Epoch 80/200\n",
      "10/10 [==============================] - 0s 2ms/step - loss: 0.3622 - accuracy: 0.8651\n",
      "Epoch 81/200\n",
      "10/10 [==============================] - 0s 2ms/step - loss: 0.3645 - accuracy: 0.8683\n",
      "Epoch 82/200\n",
      "10/10 [==============================] - 0s 3ms/step - loss: 0.3578 - accuracy: 0.8730\n",
      "Epoch 83/200\n"
     ]
    },
    {
     "name": "stdout",
     "output_type": "stream",
     "text": [
      "10/10 [==============================] - 0s 2ms/step - loss: 0.3547 - accuracy: 0.8714\n",
      "Epoch 84/200\n",
      "10/10 [==============================] - 0s 2ms/step - loss: 0.3487 - accuracy: 0.8730\n",
      "Epoch 85/200\n",
      "10/10 [==============================] - 0s 2ms/step - loss: 0.3495 - accuracy: 0.8698\n",
      "Epoch 86/200\n",
      "10/10 [==============================] - 0s 2ms/step - loss: 0.3496 - accuracy: 0.8714\n",
      "Epoch 87/200\n",
      "10/10 [==============================] - 0s 2ms/step - loss: 0.3406 - accuracy: 0.8746\n",
      "Epoch 88/200\n",
      "10/10 [==============================] - 0s 2ms/step - loss: 0.3357 - accuracy: 0.8778\n",
      "Epoch 89/200\n",
      "10/10 [==============================] - 0s 2ms/step - loss: 0.3351 - accuracy: 0.8794\n",
      "Epoch 90/200\n",
      "10/10 [==============================] - 0s 2ms/step - loss: 0.3308 - accuracy: 0.8778\n",
      "Epoch 91/200\n",
      "10/10 [==============================] - 0s 2ms/step - loss: 0.3276 - accuracy: 0.8794\n",
      "Epoch 92/200\n",
      "10/10 [==============================] - 0s 2ms/step - loss: 0.3286 - accuracy: 0.8778\n",
      "Epoch 93/200\n",
      "10/10 [==============================] - 0s 2ms/step - loss: 0.3281 - accuracy: 0.8810\n",
      "Epoch 94/200\n",
      "10/10 [==============================] - 0s 2ms/step - loss: 0.3287 - accuracy: 0.8825\n",
      "Epoch 95/200\n",
      "10/10 [==============================] - 0s 2ms/step - loss: 0.3239 - accuracy: 0.8825\n",
      "Epoch 96/200\n",
      "10/10 [==============================] - 0s 2ms/step - loss: 0.3252 - accuracy: 0.8810\n",
      "Epoch 97/200\n",
      "10/10 [==============================] - 0s 2ms/step - loss: 0.3190 - accuracy: 0.8857\n",
      "Epoch 98/200\n",
      "10/10 [==============================] - 0s 2ms/step - loss: 0.3133 - accuracy: 0.8873\n",
      "Epoch 99/200\n",
      "10/10 [==============================] - 0s 2ms/step - loss: 0.3128 - accuracy: 0.8841\n",
      "Epoch 100/200\n",
      "10/10 [==============================] - ETA: 0s - loss: 0.2695 - accuracy: 0.85 - 0s 2ms/step - loss: 0.3086 - accuracy: 0.8889\n",
      "Epoch 101/200\n",
      "10/10 [==============================] - 0s 2ms/step - loss: 0.2997 - accuracy: 0.8889\n",
      "Epoch 102/200\n",
      "10/10 [==============================] - 0s 2ms/step - loss: 0.2991 - accuracy: 0.8921\n",
      "Epoch 103/200\n",
      "10/10 [==============================] - 0s 2ms/step - loss: 0.2955 - accuracy: 0.8952\n",
      "Epoch 104/200\n",
      "10/10 [==============================] - 0s 2ms/step - loss: 0.2934 - accuracy: 0.8921\n",
      "Epoch 105/200\n",
      "10/10 [==============================] - 0s 2ms/step - loss: 0.2932 - accuracy: 0.8905\n",
      "Epoch 106/200\n",
      "10/10 [==============================] - 0s 2ms/step - loss: 0.2898 - accuracy: 0.8968\n",
      "Epoch 107/200\n",
      "10/10 [==============================] - 0s 2ms/step - loss: 0.2885 - accuracy: 0.9000\n",
      "Epoch 108/200\n",
      "10/10 [==============================] - 0s 2ms/step - loss: 0.2807 - accuracy: 0.9000\n",
      "Epoch 109/200\n",
      "10/10 [==============================] - 0s 2ms/step - loss: 0.2757 - accuracy: 0.9032\n",
      "Epoch 110/200\n",
      "10/10 [==============================] - 0s 1ms/step - loss: 0.2727 - accuracy: 0.9000\n",
      "Epoch 111/200\n",
      "10/10 [==============================] - 0s 2ms/step - loss: 0.2730 - accuracy: 0.9048\n",
      "Epoch 112/200\n",
      "10/10 [==============================] - 0s 2ms/step - loss: 0.2678 - accuracy: 0.9079\n",
      "Epoch 113/200\n",
      "10/10 [==============================] - 0s 2ms/step - loss: 0.2647 - accuracy: 0.9127\n",
      "Epoch 114/200\n",
      "10/10 [==============================] - 0s 2ms/step - loss: 0.2587 - accuracy: 0.9111\n",
      "Epoch 115/200\n",
      "10/10 [==============================] - 0s 2ms/step - loss: 0.2573 - accuracy: 0.9111\n",
      "Epoch 116/200\n",
      "10/10 [==============================] - 0s 2ms/step - loss: 0.2563 - accuracy: 0.9127\n",
      "Epoch 117/200\n",
      "10/10 [==============================] - 0s 2ms/step - loss: 0.2542 - accuracy: 0.9159\n",
      "Epoch 118/200\n",
      "10/10 [==============================] - 0s 2ms/step - loss: 0.2480 - accuracy: 0.9159\n",
      "Epoch 119/200\n",
      "10/10 [==============================] - 0s 2ms/step - loss: 0.2518 - accuracy: 0.9159\n",
      "Epoch 120/200\n",
      "10/10 [==============================] - 0s 2ms/step - loss: 0.2457 - accuracy: 0.9175\n",
      "Epoch 121/200\n",
      "10/10 [==============================] - 0s 2ms/step - loss: 0.2480 - accuracy: 0.9143\n",
      "Epoch 122/200\n",
      "10/10 [==============================] - 0s 2ms/step - loss: 0.2405 - accuracy: 0.9206\n",
      "Epoch 123/200\n",
      "10/10 [==============================] - 0s 2ms/step - loss: 0.2392 - accuracy: 0.9159\n",
      "Epoch 124/200\n",
      "10/10 [==============================] - 0s 2ms/step - loss: 0.2398 - accuracy: 0.9206\n",
      "Epoch 125/200\n",
      "10/10 [==============================] - 0s 2ms/step - loss: 0.2333 - accuracy: 0.9286\n",
      "Epoch 126/200\n",
      "10/10 [==============================] - 0s 2ms/step - loss: 0.2290 - accuracy: 0.9286\n",
      "Epoch 127/200\n",
      "10/10 [==============================] - 0s 2ms/step - loss: 0.2266 - accuracy: 0.9286\n",
      "Epoch 128/200\n",
      "10/10 [==============================] - 0s 2ms/step - loss: 0.2234 - accuracy: 0.9302\n",
      "Epoch 129/200\n",
      "10/10 [==============================] - 0s 2ms/step - loss: 0.2235 - accuracy: 0.9270\n",
      "Epoch 130/200\n",
      "10/10 [==============================] - 0s 2ms/step - loss: 0.2208 - accuracy: 0.9286\n",
      "Epoch 131/200\n",
      "10/10 [==============================] - 0s 2ms/step - loss: 0.2181 - accuracy: 0.9317\n",
      "Epoch 132/200\n",
      "10/10 [==============================] - 0s 2ms/step - loss: 0.2209 - accuracy: 0.9302\n",
      "Epoch 133/200\n",
      "10/10 [==============================] - 0s 2ms/step - loss: 0.2150 - accuracy: 0.9286\n",
      "Epoch 134/200\n",
      "10/10 [==============================] - 0s 2ms/step - loss: 0.2147 - accuracy: 0.9302\n",
      "Epoch 135/200\n",
      "10/10 [==============================] - 0s 2ms/step - loss: 0.2076 - accuracy: 0.9349\n",
      "Epoch 136/200\n",
      "10/10 [==============================] - 0s 2ms/step - loss: 0.2100 - accuracy: 0.9317\n",
      "Epoch 137/200\n",
      "10/10 [==============================] - 0s 2ms/step - loss: 0.2084 - accuracy: 0.9333\n",
      "Epoch 138/200\n",
      "10/10 [==============================] - 0s 2ms/step - loss: 0.2027 - accuracy: 0.9333\n",
      "Epoch 139/200\n",
      "10/10 [==============================] - 0s 2ms/step - loss: 0.2055 - accuracy: 0.9333\n",
      "Epoch 140/200\n",
      "10/10 [==============================] - 0s 2ms/step - loss: 0.2031 - accuracy: 0.9381\n",
      "Epoch 141/200\n",
      "10/10 [==============================] - 0s 2ms/step - loss: 0.2067 - accuracy: 0.9365\n",
      "Epoch 142/200\n",
      "10/10 [==============================] - 0s 2ms/step - loss: 0.2004 - accuracy: 0.9317\n",
      "Epoch 143/200\n",
      "10/10 [==============================] - 0s 2ms/step - loss: 0.1946 - accuracy: 0.9381\n",
      "Epoch 144/200\n",
      "10/10 [==============================] - 0s 2ms/step - loss: 0.2015 - accuracy: 0.9365\n",
      "Epoch 145/200\n",
      "10/10 [==============================] - 0s 2ms/step - loss: 0.2042 - accuracy: 0.9286\n",
      "Epoch 146/200\n",
      "10/10 [==============================] - 0s 2ms/step - loss: 0.1991 - accuracy: 0.9349\n",
      "Epoch 147/200\n",
      "10/10 [==============================] - 0s 3ms/step - loss: 0.2050 - accuracy: 0.9270\n",
      "Epoch 148/200\n",
      "10/10 [==============================] - 0s 2ms/step - loss: 0.1978 - accuracy: 0.9349\n",
      "Epoch 149/200\n",
      "10/10 [==============================] - 0s 2ms/step - loss: 0.1858 - accuracy: 0.9397\n",
      "Epoch 150/200\n",
      "10/10 [==============================] - 0s 2ms/step - loss: 0.1861 - accuracy: 0.9365\n",
      "Epoch 151/200\n",
      "10/10 [==============================] - 0s 2ms/step - loss: 0.1780 - accuracy: 0.9381\n",
      "Epoch 152/200\n",
      "10/10 [==============================] - 0s 2ms/step - loss: 0.1751 - accuracy: 0.9476\n",
      "Epoch 153/200\n",
      "10/10 [==============================] - 0s 2ms/step - loss: 0.1696 - accuracy: 0.9476\n",
      "Epoch 154/200\n",
      "10/10 [==============================] - 0s 2ms/step - loss: 0.1673 - accuracy: 0.9476\n",
      "Epoch 155/200\n",
      "10/10 [==============================] - 0s 2ms/step - loss: 0.1674 - accuracy: 0.9524\n",
      "Epoch 156/200\n",
      "10/10 [==============================] - 0s 2ms/step - loss: 0.1644 - accuracy: 0.9524\n",
      "Epoch 157/200\n",
      "10/10 [==============================] - 0s 2ms/step - loss: 0.1640 - accuracy: 0.9524\n",
      "Epoch 158/200\n",
      "10/10 [==============================] - 0s 2ms/step - loss: 0.1631 - accuracy: 0.9492\n",
      "Epoch 159/200\n",
      "10/10 [==============================] - 0s 2ms/step - loss: 0.1704 - accuracy: 0.9508\n",
      "Epoch 160/200\n",
      "10/10 [==============================] - 0s 2ms/step - loss: 0.1888 - accuracy: 0.9349\n",
      "Epoch 161/200\n",
      "10/10 [==============================] - 0s 2ms/step - loss: 0.2253 - accuracy: 0.9222\n",
      "Epoch 162/200\n",
      "10/10 [==============================] - 0s 2ms/step - loss: 0.2430 - accuracy: 0.9159\n",
      "Epoch 163/200\n",
      "10/10 [==============================] - 0s 2ms/step - loss: 0.2516 - accuracy: 0.9127\n"
     ]
    },
    {
     "name": "stdout",
     "output_type": "stream",
     "text": [
      "Epoch 164/200\n",
      "10/10 [==============================] - 0s 2ms/step - loss: 0.2359 - accuracy: 0.9190\n",
      "Epoch 165/200\n",
      "10/10 [==============================] - 0s 2ms/step - loss: 0.1954 - accuracy: 0.9413\n",
      "Epoch 166/200\n",
      "10/10 [==============================] - 0s 2ms/step - loss: 0.1859 - accuracy: 0.9413\n",
      "Epoch 167/200\n",
      "10/10 [==============================] - 0s 1ms/step - loss: 0.1796 - accuracy: 0.9413\n",
      "Epoch 168/200\n",
      "10/10 [==============================] - 0s 2ms/step - loss: 0.1678 - accuracy: 0.9460\n",
      "Epoch 169/200\n",
      "10/10 [==============================] - 0s 2ms/step - loss: 0.1607 - accuracy: 0.9508\n",
      "Epoch 170/200\n",
      "10/10 [==============================] - 0s 2ms/step - loss: 0.1605 - accuracy: 0.9508\n",
      "Epoch 171/200\n",
      "10/10 [==============================] - 0s 2ms/step - loss: 0.1628 - accuracy: 0.9524\n",
      "Epoch 172/200\n",
      "10/10 [==============================] - 0s 2ms/step - loss: 0.1570 - accuracy: 0.9492\n",
      "Epoch 173/200\n",
      "10/10 [==============================] - 0s 2ms/step - loss: 0.1541 - accuracy: 0.9460\n",
      "Epoch 174/200\n",
      "10/10 [==============================] - 0s 2ms/step - loss: 0.1535 - accuracy: 0.9524\n",
      "Epoch 175/200\n",
      "10/10 [==============================] - 0s 2ms/step - loss: 0.1456 - accuracy: 0.9571\n",
      "Epoch 176/200\n",
      "10/10 [==============================] - 0s 1ms/step - loss: 0.1407 - accuracy: 0.9619\n",
      "Epoch 177/200\n",
      "10/10 [==============================] - 0s 2ms/step - loss: 0.1391 - accuracy: 0.9619\n",
      "Epoch 178/200\n",
      "10/10 [==============================] - 0s 2ms/step - loss: 0.1362 - accuracy: 0.9603\n",
      "Epoch 179/200\n",
      "10/10 [==============================] - 0s 2ms/step - loss: 0.1345 - accuracy: 0.9619\n",
      "Epoch 180/200\n",
      "10/10 [==============================] - 0s 2ms/step - loss: 0.1322 - accuracy: 0.9651\n",
      "Epoch 181/200\n",
      "10/10 [==============================] - 0s 2ms/step - loss: 0.1320 - accuracy: 0.9619\n",
      "Epoch 182/200\n",
      "10/10 [==============================] - 0s 2ms/step - loss: 0.1300 - accuracy: 0.9651\n",
      "Epoch 183/200\n",
      "10/10 [==============================] - 0s 2ms/step - loss: 0.1309 - accuracy: 0.9619\n",
      "Epoch 184/200\n",
      "10/10 [==============================] - 0s 2ms/step - loss: 0.1294 - accuracy: 0.9651\n",
      "Epoch 185/200\n",
      "10/10 [==============================] - 0s 2ms/step - loss: 0.1266 - accuracy: 0.9635\n",
      "Epoch 186/200\n",
      "10/10 [==============================] - 0s 2ms/step - loss: 0.1270 - accuracy: 0.9651\n",
      "Epoch 187/200\n",
      "10/10 [==============================] - 0s 2ms/step - loss: 0.1250 - accuracy: 0.9619\n",
      "Epoch 188/200\n",
      "10/10 [==============================] - 0s 2ms/step - loss: 0.1235 - accuracy: 0.9651\n",
      "Epoch 189/200\n",
      "10/10 [==============================] - 0s 2ms/step - loss: 0.1243 - accuracy: 0.9651\n",
      "Epoch 190/200\n",
      "10/10 [==============================] - 0s 2ms/step - loss: 0.1220 - accuracy: 0.9651\n",
      "Epoch 191/200\n",
      "10/10 [==============================] - 0s 2ms/step - loss: 0.1219 - accuracy: 0.9667\n",
      "Epoch 192/200\n",
      "10/10 [==============================] - 0s 2ms/step - loss: 0.1200 - accuracy: 0.9667\n",
      "Epoch 193/200\n",
      "10/10 [==============================] - 0s 2ms/step - loss: 0.1192 - accuracy: 0.9683\n",
      "Epoch 194/200\n",
      "10/10 [==============================] - 0s 2ms/step - loss: 0.1155 - accuracy: 0.9698\n",
      "Epoch 195/200\n",
      "10/10 [==============================] - 0s 2ms/step - loss: 0.1133 - accuracy: 0.9683\n",
      "Epoch 196/200\n",
      "10/10 [==============================] - 0s 2ms/step - loss: 0.1129 - accuracy: 0.9698\n",
      "Epoch 197/200\n",
      "10/10 [==============================] - 0s 2ms/step - loss: 0.1140 - accuracy: 0.9698\n",
      "Epoch 198/200\n",
      "10/10 [==============================] - 0s 2ms/step - loss: 0.1136 - accuracy: 0.9651\n",
      "Epoch 199/200\n",
      "10/10 [==============================] - 0s 2ms/step - loss: 0.1139 - accuracy: 0.9714\n",
      "Epoch 200/200\n",
      "10/10 [==============================] - 0s 2ms/step - loss: 0.1096 - accuracy: 0.9730\n"
     ]
    }
   ],
   "source": [
    "history = model.fit(train_x, train_y, epochs=200, batch_size=64)"
   ]
  },
  {
   "cell_type": "code",
   "execution_count": 39,
   "metadata": {},
   "outputs": [
    {
     "name": "stdout",
     "output_type": "stream",
     "text": [
      "Accuracy is: 66.78082191780823\n"
     ]
    }
   ],
   "source": [
    "y_pred = model.predict(test_x)\n",
    "pred = list()\n",
    "for i in range(len(y_pred)):\n",
    "    pred.append(np.argmax(y_pred[i]))\n",
    "test = list()\n",
    "for i in range(len(test_y)):\n",
    "    test.append(np.argmax(test_y[i]))\n",
    "    \n",
    "from sklearn.metrics import accuracy_score\n",
    "a = accuracy_score(pred,test)\n",
    "print('Accuracy is:', a*100)"
   ]
  },
  {
   "cell_type": "code",
   "execution_count": 40,
   "metadata": {},
   "outputs": [
    {
     "data": {
      "image/png": "[encoded data removed]",
      "text/plain": [
       "<Figure size 432x288 with 1 Axes>"
      ]
     },
     "metadata": {
      "needs_background": "light"
     },
     "output_type": "display_data"
    },
    {
     "data": {
      "image/png": "[encoded data removed]",
      "text/plain": [
       "<Figure size 432x288 with 1 Axes>"
      ]
     },
     "metadata": {
      "needs_background": "light"
     },
     "output_type": "display_data"
    }
   ],
   "source": [
    "acc = history.history['accuracy']\n",
    "loss = history.history['loss']\n",
    "\n",
    "epochs = range(1, len(acc) + 1)\n",
    "plt.plot(epochs, acc, 'bo', label= 'Training Accuracy')\n",
    "plt.title('Training Accuracy')\n",
    "plt.legend()\n",
    "plt.figure()\n",
    "plt.plot(epochs, loss, 'bo', label = 'Training Loss')\n",
    "plt.title('Training Loss')\n",
    "plt.legend()\n",
    "\n",
    "plt.show()"
   ]
  },
  {
   "cell_type": "code",
   "execution_count": 41,
   "metadata": {},
   "outputs": [],
   "source": [
    "train = pd.read_csv('train_openpose.csv')\n",
    "train.drop(columns = ['Unnamed: 0'], inplace = True)\n",
    "train = train.sample(frac=1).reset_index(drop=True)\n",
    "train_x = train.iloc[:, :-1]\n",
    "train_y = train.iloc[:, -1]\n",
    "\n",
    "test = pd.read_csv('test_openpose.csv')\n",
    "test.drop(columns = ['Unnamed: 0'], inplace = True)\n",
    "test = test.sample(frac=1).reset_index(drop=True)\n",
    "test_x = test.iloc[:, :-1]\n",
    "test_y = test.iloc[:, -1]"
   ]
  },
  {
   "cell_type": "code",
   "execution_count": 43,
   "metadata": {},
   "outputs": [
    {
     "name": "stdout",
     "output_type": "stream",
     "text": [
      "Accuracy:  0.5450643776824035\n",
      "[[52  6 10  2 10]\n",
      " [11 35  8 23 14]\n",
      " [ 7  2 49  0 11]\n",
      " [ 8 30 11 52 16]\n",
      " [ 4 14 11 14 66]]\n",
      "              precision    recall  f1-score   support\n",
      "\n",
      "     goddess       0.63      0.65      0.64        80\n",
      "    halfMoon       0.40      0.38      0.39        91\n",
      "        tree       0.55      0.71      0.62        69\n",
      "    triangle       0.57      0.44      0.50       117\n",
      "    warrior2       0.56      0.61      0.58       109\n",
      "\n",
      "    accuracy                           0.55       466\n",
      "   macro avg       0.54      0.56      0.55       466\n",
      "weighted avg       0.54      0.55      0.54       466\n",
      "\n"
     ]
    }
   ],
   "source": [
    "from sklearn.tree import DecisionTreeClassifier\n",
    "\n",
    "clf_model = DecisionTreeClassifier(criterion=\"gini\", random_state=42,max_depth=15, min_samples_leaf=5)   \n",
    "clf_model.fit(train_x,train_y)\n",
    "y_pred = clf_model.predict(test_x)\n",
    "print(\"Accuracy: \", metrics.accuracy_score(test_y, y_pred))\n",
    "print(confusion_matrix(test_y, y_pred))\n",
    "print(classification_report(test_y, y_pred))"
   ]
  },
  {
   "cell_type": "code",
   "execution_count": 44,
   "metadata": {},
   "outputs": [
    {
     "data": {
      "text/plain": [
       "[0.47639484978540775,\n",
       " 0.5214592274678111,\n",
       " 0.5450643776824035,\n",
       " 0.5450643776824035,\n",
       " 0.5450643776824035,\n",
       " 0.5450643776824035,\n",
       " 0.5450643776824035,\n",
       " 0.5450643776824035,\n",
       " 0.5450643776824035,\n",
       " 0.5450643776824035,\n",
       " 0.5450643776824035,\n",
       " 0.5450643776824035,\n",
       " 0.5450643776824035,\n",
       " 0.5450643776824035,\n",
       " 0.5450643776824035,\n",
       " 0.5450643776824035,\n",
       " 0.5450643776824035,\n",
       " 0.5450643776824035,\n",
       " 0.5450643776824035,\n",
       " 0.5450643776824035]"
      ]
     },
     "execution_count": 44,
     "metadata": {},
     "output_type": "execute_result"
    }
   ],
   "source": [
    "md = []\n",
    "acc = []\n",
    "i = 5\n",
    "while i<=100:\n",
    "    md.append(i)\n",
    "    i = i+5\n",
    "    \n",
    "for m in md:\n",
    "    clf_model = DecisionTreeClassifier(criterion=\"gini\", random_state=42,max_depth=m, min_samples_leaf=5)   \n",
    "    clf_model.fit(train_x,train_y)\n",
    "    y_pred = clf_model.predict(test_x)\n",
    "    acc.append(accuracy_score(y_pred, test_y))\n",
    "acc"
   ]
  },
  {
   "cell_type": "code",
   "execution_count": 45,
   "metadata": {},
   "outputs": [
    {
     "data": {
      "text/plain": [
       "<AxesSubplot:>"
      ]
     },
     "execution_count": 45,
     "metadata": {},
     "output_type": "execute_result"
    },
    {
     "data": {
      "image/png": "[encoded data removed]",
      "text/plain": [
       "<Figure size 432x288 with 1 Axes>"
      ]
     },
     "metadata": {
      "needs_background": "light"
     },
     "output_type": "display_data"
    }
   ],
   "source": [
    "sns.lineplot(x = md, y = acc)"
   ]
  },
  {
   "cell_type": "code",
   "execution_count": 46,
   "metadata": {},
   "outputs": [],
   "source": [
    "train = pd.read_csv('train_openpose.csv')\n",
    "train.drop(columns = ['Unnamed: 0'], inplace = True)\n",
    "\n",
    "test = pd.read_csv('test_openpose.csv')\n",
    "test.drop(columns = ['Unnamed: 0'], inplace = True)\n",
    "\n",
    "factor = pd.factorize(train['Pose'])\n",
    "train.Pose = factor[0]\n",
    "definitions = factor[1]\n",
    "\n",
    "factor = pd.factorize(test['Pose'])\n",
    "test.Pose = factor[0]\n",
    "definitions = factor[1]\n",
    "\n",
    "train = train.sample(frac=1).reset_index(drop=True)\n",
    "train_x = train.iloc[:, :-1]\n",
    "train_y = train.iloc[:, -1]\n",
    "\n",
    "test = test.sample(frac=1).reset_index(drop=True)\n",
    "test_x = test.iloc[:, :-1]\n",
    "test_y = test.iloc[:, -1]"
   ]
  },
  {
   "cell_type": "code",
   "execution_count": 53,
   "metadata": {},
   "outputs": [
    {
     "name": "stdout",
     "output_type": "stream",
     "text": [
      "Accuracy:  0.7017167381974249\n",
      "[[63  4  2  3  8]\n",
      " [ 1 38  4 35 13]\n",
      " [ 1  1 65  0  2]\n",
      " [ 2 23  8 71 13]\n",
      " [ 0  6  2 11 90]]\n",
      "              precision    recall  f1-score   support\n",
      "\n",
      "           0       0.94      0.79      0.86        80\n",
      "           1       0.53      0.42      0.47        91\n",
      "           2       0.80      0.94      0.87        69\n",
      "           3       0.59      0.61      0.60       117\n",
      "           4       0.71      0.83      0.77       109\n",
      "\n",
      "    accuracy                           0.70       466\n",
      "   macro avg       0.72      0.72      0.71       466\n",
      "weighted avg       0.70      0.70      0.70       466\n",
      "\n"
     ]
    }
   ],
   "source": [
    "from sklearn.ensemble import RandomForestClassifier\n",
    "\n",
    "classifier = RandomForestClassifier(n_estimators = 100, criterion = 'entropy', random_state = 42)\n",
    "classifier.fit(train_x, train_y)\n",
    "y_pred = classifier.predict(test_x)\n",
    "print(\"Accuracy: \", metrics.accuracy_score(test_y, y_pred))\n",
    "print(confusion_matrix(test_y, y_pred))\n",
    "print(classification_report(test_y, y_pred))"
   ]
  },
  {
   "cell_type": "code",
   "execution_count": 50,
   "metadata": {},
   "outputs": [
    {
     "data": {
      "text/plain": [
       "[0.6437768240343348,\n",
       " 0.6888412017167382,\n",
       " 0.7017167381974249,\n",
       " 0.6909871244635193,\n",
       " 0.6952789699570815,\n",
       " 0.6824034334763949,\n",
       " 0.6824034334763949,\n",
       " 0.6909871244635193,\n",
       " 0.6995708154506438,\n",
       " 0.7017167381974249,\n",
       " 0.7081545064377682,\n",
       " 0.7081545064377682,\n",
       " 0.7081545064377682,\n",
       " 0.7060085836909872,\n",
       " 0.703862660944206,\n",
       " 0.7103004291845494,\n",
       " 0.7081545064377682,\n",
       " 0.7060085836909872,\n",
       " 0.7060085836909872,\n",
       " 0.703862660944206,\n",
       " 0.7017167381974249,\n",
       " 0.7081545064377682,\n",
       " 0.7060085836909872,\n",
       " 0.7060085836909872,\n",
       " 0.7060085836909872,\n",
       " 0.703862660944206,\n",
       " 0.7103004291845494,\n",
       " 0.7081545064377682,\n",
       " 0.7103004291845494,\n",
       " 0.7081545064377682]"
      ]
     },
     "execution_count": 50,
     "metadata": {},
     "output_type": "execute_result"
    }
   ],
   "source": [
    "ne = []\n",
    "acc3 = []\n",
    "i = 10\n",
    "while i<=300:\n",
    "    ne.append(i)\n",
    "    i = i + 10\n",
    "\n",
    "for n in ne:\n",
    "    classifier = RandomForestClassifier(n_estimators = n, criterion = 'entropy', random_state = 42)\n",
    "    classifier.fit(train_x, train_y)\n",
    "    y_pred = classifier.predict(test_x)\n",
    "    acc3.append(accuracy_score(y_pred, test_y))\n",
    "    \n",
    "acc3"
   ]
  },
  {
   "cell_type": "code",
   "execution_count": 52,
   "metadata": {},
   "outputs": [
    {
     "data": {
      "text/plain": [
       "<AxesSubplot:>"
      ]
     },
     "execution_count": 52,
     "metadata": {},
     "output_type": "execute_result"
    },
    {
     "data": {
      "image/png": "[encoded data removed]",
      "text/plain": [
       "<Figure size 432x288 with 1 Axes>"
      ]
     },
     "metadata": {
      "needs_background": "light"
     },
     "output_type": "display_data"
    }
   ],
   "source": [
    "sns.lineplot(x = ne, y = acc3)"
   ]
  },
  {
   "cell_type": "code",
   "execution_count": null,
   "metadata": {},
   "outputs": [],
   "source": []
  }
 ],
 "metadata": {
  "kernelspec": {
   "display_name": "Python 3",
   "language": "python",
   "name": "python3"
  },
  "language_info": {
   "codemirror_mode": {
    "name": "ipython",
    "version": 3
   },
   "file_extension": ".py",
   "mimetype": "text/x-python",
   "name": "python",
   "nbconvert_exporter": "python",
   "pygments_lexer": "ipython3",
   "version": "3.7.4"
  }
 },
 "nbformat": 4,
 "nbformat_minor": 2
}
